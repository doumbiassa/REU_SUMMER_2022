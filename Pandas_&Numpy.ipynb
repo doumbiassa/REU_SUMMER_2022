{
 "cells": [
  {
   "cell_type": "code",
   "execution_count": 7,
   "id": "7852d1c7",
   "metadata": {},
   "outputs": [],
   "source": [
    "import pandas as pd\n",
    "import numpy as np\n",
    "import sympy as sy\n",
    "from numpy.random import randn"
   ]
  },
  {
   "cell_type": "code",
   "execution_count": 8,
   "id": "5b5f572c",
   "metadata": {},
   "outputs": [],
   "source": [
    "array_1 = np.array([1,2,3])"
   ]
  },
  {
   "cell_type": "code",
   "execution_count": 9,
   "id": "d11d33f8",
   "metadata": {},
   "outputs": [
    {
     "name": "stdout",
     "output_type": "stream",
     "text": [
      "[1 2 3]\n"
     ]
    }
   ],
   "source": [
    "print(array_1)"
   ]
  },
  {
   "cell_type": "code",
   "execution_count": 10,
   "id": "54aaf479",
   "metadata": {},
   "outputs": [
    {
     "data": {
      "text/plain": [
       "numpy.ndarray"
      ]
     },
     "execution_count": 10,
     "metadata": {},
     "output_type": "execute_result"
    }
   ],
   "source": [
    "type(array_1)"
   ]
  },
  {
   "cell_type": "code",
   "execution_count": 11,
   "id": "3748e033",
   "metadata": {},
   "outputs": [],
   "source": [
    "array_2 = np.array([-1,4,2])"
   ]
  },
  {
   "cell_type": "code",
   "execution_count": 12,
   "id": "39199bf8",
   "metadata": {},
   "outputs": [
    {
     "name": "stdout",
     "output_type": "stream",
     "text": [
      "[-1  4  2]\n"
     ]
    }
   ],
   "source": [
    "print(array_2)"
   ]
  },
  {
   "cell_type": "code",
   "execution_count": 14,
   "id": "d47f4163",
   "metadata": {},
   "outputs": [
    {
     "data": {
      "text/plain": [
       "3"
      ]
     },
     "execution_count": 14,
     "metadata": {},
     "output_type": "execute_result"
    }
   ],
   "source": [
    "len(array_2)"
   ]
  },
  {
   "cell_type": "code",
   "execution_count": 17,
   "id": "828ee595",
   "metadata": {},
   "outputs": [
    {
     "name": "stdout",
     "output_type": "stream",
     "text": [
      "13\n"
     ]
    }
   ],
   "source": [
    "# We want to perform the dot product of these two numpy \n",
    "#arrray\n",
    "for i in range(len(array_1)):\n",
    "    dot = sum(array_1*array_2)\n",
    "print(dot)"
   ]
  },
  {
   "cell_type": "code",
   "execution_count": 18,
   "id": "908a4707",
   "metadata": {},
   "outputs": [
    {
     "data": {
      "text/plain": [
       "13"
      ]
     },
     "execution_count": 18,
     "metadata": {},
     "output_type": "execute_result"
    }
   ],
   "source": [
    "array_1@array_2"
   ]
  },
  {
   "cell_type": "code",
   "execution_count": 19,
   "id": "196c661d",
   "metadata": {},
   "outputs": [
    {
     "data": {
      "text/plain": [
       "13"
      ]
     },
     "execution_count": 19,
     "metadata": {},
     "output_type": "execute_result"
    }
   ],
   "source": [
    "array_1.dot(array_2)"
   ]
  },
  {
   "cell_type": "code",
   "execution_count": 24,
   "id": "a97c7030",
   "metadata": {},
   "outputs": [
    {
     "data": {
      "text/plain": [
       "array([2, 4, 6])"
      ]
     },
     "execution_count": 24,
     "metadata": {},
     "output_type": "execute_result"
    }
   ],
   "source": [
    "array_3 = array_1*2\n",
    "array_3"
   ]
  },
  {
   "cell_type": "code",
   "execution_count": 26,
   "id": "66f6fb7a",
   "metadata": {},
   "outputs": [
    {
     "data": {
      "text/plain": [
       "[1, 2, 3, 1, 2, 3]"
      ]
     },
     "execution_count": 26,
     "metadata": {},
     "output_type": "execute_result"
    }
   ],
   "source": [
    "L1 = [1,2,3]\n",
    "L2  = L1*2\n",
    "L2"
   ]
  },
  {
   "cell_type": "code",
   "execution_count": 28,
   "id": "959d8b28",
   "metadata": {},
   "outputs": [
    {
     "name": "stdout",
     "output_type": "stream",
     "text": [
      "[1.         1.41421356 1.73205081]\n"
     ]
    }
   ],
   "source": [
    "array_4 = np.sqrt(array_1)\n",
    "print(array_4)"
   ]
  },
  {
   "cell_type": "code",
   "execution_count": 29,
   "id": "05b72bcf",
   "metadata": {},
   "outputs": [
    {
     "name": "stdout",
     "output_type": "stream",
     "text": [
      "[2.         3.41421356 4.73205081]\n"
     ]
    }
   ],
   "source": [
    "array_5 = array_4 +array_1\n",
    "print(array_5)"
   ]
  },
  {
   "cell_type": "code",
   "execution_count": 30,
   "id": "137e1643",
   "metadata": {},
   "outputs": [],
   "source": [
    "# Broadcasting"
   ]
  },
  {
   "cell_type": "code",
   "execution_count": 40,
   "id": "d25a3932",
   "metadata": {},
   "outputs": [],
   "source": [
    "array_6 = np.array([1,2,3,4,5,6,7,8,9])"
   ]
  },
  {
   "cell_type": "code",
   "execution_count": 42,
   "id": "9eab5f11",
   "metadata": {},
   "outputs": [
    {
     "name": "stdout",
     "output_type": "stream",
     "text": [
      "[100 100   3   4   5   6   7   8   9]\n"
     ]
    }
   ],
   "source": [
    "array_6[0:2] = 100\n",
    "print(array_6)"
   ]
  },
  {
   "cell_type": "code",
   "execution_count": 44,
   "id": "aa715825",
   "metadata": {},
   "outputs": [],
   "source": [
    "array_6[3:7] = 1"
   ]
  },
  {
   "cell_type": "code",
   "execution_count": 45,
   "id": "5c588645",
   "metadata": {},
   "outputs": [
    {
     "name": "stdout",
     "output_type": "stream",
     "text": [
      "[100 100   3   1   1   1   1   8   9]\n"
     ]
    }
   ],
   "source": [
    "print(array_6)"
   ]
  },
  {
   "cell_type": "code",
   "execution_count": 46,
   "id": "0b492a91",
   "metadata": {},
   "outputs": [],
   "source": [
    "# Matrices"
   ]
  },
  {
   "cell_type": "code",
   "execution_count": 52,
   "id": "ea03e084",
   "metadata": {},
   "outputs": [
    {
     "data": {
      "text/plain": [
       "array([[1, 2, 3],\n",
       "       [4, 5, 6],\n",
       "       [7, 8, 9]])"
      ]
     },
     "execution_count": 52,
     "metadata": {},
     "output_type": "execute_result"
    }
   ],
   "source": [
    "M = np.array([[1,2,3],[4,5,6],[7,8,9]])\n",
    "M"
   ]
  },
  {
   "cell_type": "code",
   "execution_count": 53,
   "id": "3b2305f6",
   "metadata": {},
   "outputs": [
    {
     "data": {
      "text/plain": [
       "array([1., 2., 3., 4., 5., 6., 7., 8., 9.])"
      ]
     },
     "execution_count": 53,
     "metadata": {},
     "output_type": "execute_result"
    }
   ],
   "source": [
    "L = np.linspace(1,9,9)\n",
    "L"
   ]
  },
  {
   "cell_type": "code",
   "execution_count": 55,
   "id": "468af4b5",
   "metadata": {},
   "outputs": [],
   "source": [
    "M = L.reshape(3,3)"
   ]
  },
  {
   "cell_type": "code",
   "execution_count": 56,
   "id": "fc385d78",
   "metadata": {},
   "outputs": [
    {
     "data": {
      "text/plain": [
       "array([[1., 2., 3.],\n",
       "       [4., 5., 6.],\n",
       "       [7., 8., 9.]])"
      ]
     },
     "execution_count": 56,
     "metadata": {},
     "output_type": "execute_result"
    }
   ],
   "source": [
    "M"
   ]
  },
  {
   "cell_type": "code",
   "execution_count": 59,
   "id": "d006a371",
   "metadata": {},
   "outputs": [
    {
     "data": {
      "text/plain": [
       "array([[[-0.66537613, -0.77616062, -1.5352172 , -1.03828507],\n",
       "        [ 0.36733342,  1.20942598,  0.64209822, -0.87828917],\n",
       "        [-0.02264135, -1.69677581,  0.57066231, -0.57063992],\n",
       "        [ 0.68563991,  1.03155554, -0.8923303 , -0.61672011],\n",
       "        [-0.22703843, -0.35264317,  0.41914846, -0.31763992],\n",
       "        [-0.78924015, -0.36468946, -0.75824076,  2.77437757],\n",
       "        [-1.59360844, -0.73448738, -0.05069456,  1.38716908]]])"
      ]
     },
     "execution_count": 59,
     "metadata": {},
     "output_type": "execute_result"
    }
   ],
   "source": [
    "M3 = np.random.randn(1,7,4)\n",
    "M3"
   ]
  },
  {
   "cell_type": "code",
   "execution_count": 61,
   "id": "c4964082",
   "metadata": {},
   "outputs": [
    {
     "data": {
      "text/plain": [
       "array([[-1.6203435 ,  1.10337801,  0.25276804,  1.55062383]])"
      ]
     },
     "execution_count": 61,
     "metadata": {},
     "output_type": "execute_result"
    }
   ],
   "source": [
    "N = np.random.randn(1,4)\n",
    "N"
   ]
  },
  {
   "cell_type": "code",
   "execution_count": 64,
   "id": "5f097f27",
   "metadata": {},
   "outputs": [
    {
     "data": {
      "text/plain": [
       "array([[1., 0., 0., 0.],\n",
       "       [0., 1., 0., 0.],\n",
       "       [0., 0., 1., 0.]])"
      ]
     },
     "execution_count": 64,
     "metadata": {},
     "output_type": "execute_result"
    }
   ],
   "source": [
    "# Identity matrix\n",
    "I = np.eye(3,4)\n",
    "I"
   ]
  },
  {
   "cell_type": "code",
   "execution_count": 68,
   "id": "a787ac68",
   "metadata": {},
   "outputs": [
    {
     "data": {
      "text/plain": [
       "array([[0., 0., 0., 0., 0.],\n",
       "       [0., 0., 0., 0., 0.],\n",
       "       [0., 0., 0., 0., 0.]])"
      ]
     },
     "execution_count": 68,
     "metadata": {},
     "output_type": "execute_result"
    }
   ],
   "source": [
    "# Zero Matrix\n",
    "Z = np.zeros([3,5])\n",
    "Z"
   ]
  },
  {
   "cell_type": "code",
   "execution_count": 74,
   "id": "c61a0e3f",
   "metadata": {},
   "outputs": [
    {
     "data": {
      "text/plain": [
       "array([[1., 2., 3.],\n",
       "       [4., 5., 6.],\n",
       "       [7., 8., 9.]])"
      ]
     },
     "execution_count": 74,
     "metadata": {},
     "output_type": "execute_result"
    }
   ],
   "source": [
    "M"
   ]
  },
  {
   "cell_type": "code",
   "execution_count": 70,
   "id": "e5f933d8",
   "metadata": {},
   "outputs": [],
   "source": [
    "D = np.diag(M)"
   ]
  },
  {
   "cell_type": "code",
   "execution_count": 71,
   "id": "a07dba08",
   "metadata": {},
   "outputs": [
    {
     "data": {
      "text/plain": [
       "array([1., 5., 9.])"
      ]
     },
     "execution_count": 71,
     "metadata": {},
     "output_type": "execute_result"
    }
   ],
   "source": [
    "D"
   ]
  },
  {
   "cell_type": "code",
   "execution_count": 73,
   "id": "b7180eb9",
   "metadata": {},
   "outputs": [
    {
     "data": {
      "text/plain": [
       "array([[1., 0., 0.],\n",
       "       [0., 5., 0.],\n",
       "       [0., 0., 9.]])"
      ]
     },
     "execution_count": 73,
     "metadata": {},
     "output_type": "execute_result"
    }
   ],
   "source": [
    "E = np.diag(D)\n",
    "E"
   ]
  },
  {
   "cell_type": "code",
   "execution_count": 78,
   "id": "f59d4248",
   "metadata": {},
   "outputs": [
    {
     "data": {
      "text/plain": [
       "array([[1., 1., 1., 1.],\n",
       "       [1., 1., 1., 1.],\n",
       "       [1., 1., 1., 1.]])"
      ]
     },
     "execution_count": 78,
     "metadata": {},
     "output_type": "execute_result"
    }
   ],
   "source": [
    "O = np.ones([3,4])\n",
    "O"
   ]
  },
  {
   "cell_type": "code",
   "execution_count": 97,
   "id": "d314ce26",
   "metadata": {},
   "outputs": [
    {
     "data": {
      "text/plain": [
       "-9.51619735392994e-16"
      ]
     },
     "execution_count": 97,
     "metadata": {},
     "output_type": "execute_result"
    }
   ],
   "source": [
    "np.linalg.det(M)"
   ]
  },
  {
   "cell_type": "code",
   "execution_count": 93,
   "id": "46b25b22",
   "metadata": {},
   "outputs": [
    {
     "data": {
      "text/latex": [
       "$\\displaystyle \\left[\\begin{matrix}1 & 2 & 3\\\\7 & 0 & 6\\\\7 & 1 & 9\\end{matrix}\\right]$"
      ],
      "text/plain": [
       "Matrix([\n",
       "[1, 2, 3],\n",
       "[7, 0, 6],\n",
       "[7, 1, 9]])"
      ]
     },
     "execution_count": 93,
     "metadata": {},
     "output_type": "execute_result"
    }
   ],
   "source": [
    "M1 = sy.Matrix([[1,2,3],[7,0,6],[7,1,9]])\n",
    "M1"
   ]
  },
  {
   "cell_type": "code",
   "execution_count": 110,
   "id": "0f03fd26",
   "metadata": {},
   "outputs": [
    {
     "data": {
      "text/latex": [
       "$\\displaystyle \\left[\\begin{matrix}\\frac{2}{9} & \\frac{5}{9} & - \\frac{4}{9}\\\\\\frac{7}{9} & \\frac{4}{9} & - \\frac{5}{9}\\\\- \\frac{7}{27} & - \\frac{13}{27} & \\frac{14}{27}\\end{matrix}\\right]$"
      ],
      "text/plain": [
       "Matrix([\n",
       "[  2/9,    5/9,  -4/9],\n",
       "[  7/9,    4/9,  -5/9],\n",
       "[-7/27, -13/27, 14/27]])"
      ]
     },
     "execution_count": 110,
     "metadata": {},
     "output_type": "execute_result"
    }
   ],
   "source": [
    "V = M1.inv()\n",
    "V"
   ]
  },
  {
   "cell_type": "code",
   "execution_count": 111,
   "id": "d65e3a8a",
   "metadata": {},
   "outputs": [
    {
     "data": {
      "text/plain": [
       "array([[1, 0, 0],\n",
       "       [0, 1, 0],\n",
       "       [0, 0, 1]], dtype=object)"
      ]
     },
     "execution_count": 111,
     "metadata": {},
     "output_type": "execute_result"
    }
   ],
   "source": [
    "np.matmul(V,M1)"
   ]
  },
  {
   "cell_type": "code",
   "execution_count": 112,
   "id": "cb2841e5",
   "metadata": {},
   "outputs": [
    {
     "data": {
      "text/latex": [
       "$\\displaystyle -27$"
      ],
      "text/plain": [
       "-27"
      ]
     },
     "execution_count": 112,
     "metadata": {},
     "output_type": "execute_result"
    }
   ],
   "source": [
    "M1.det()"
   ]
  },
  {
   "cell_type": "code",
   "execution_count": 113,
   "id": "57ff162a",
   "metadata": {},
   "outputs": [
    {
     "data": {
      "text/latex": [
       "$\\displaystyle \\left[\\begin{matrix}\\frac{2}{9} & \\frac{5}{9} & - \\frac{4}{9}\\\\\\frac{7}{9} & \\frac{4}{9} & - \\frac{5}{9}\\\\- \\frac{7}{27} & - \\frac{13}{27} & \\frac{14}{27}\\end{matrix}\\right]$"
      ],
      "text/plain": [
       "Matrix([\n",
       "[  2/9,    5/9,  -4/9],\n",
       "[  7/9,    4/9,  -5/9],\n",
       "[-7/27, -13/27, 14/27]])"
      ]
     },
     "execution_count": 113,
     "metadata": {},
     "output_type": "execute_result"
    }
   ],
   "source": [
    "V"
   ]
  },
  {
   "cell_type": "code",
   "execution_count": 114,
   "id": "60f6e274",
   "metadata": {},
   "outputs": [],
   "source": [
    " V.row_del(0)"
   ]
  },
  {
   "cell_type": "code",
   "execution_count": 115,
   "id": "fd5ebbc0",
   "metadata": {},
   "outputs": [
    {
     "data": {
      "text/latex": [
       "$\\displaystyle \\left[\\begin{matrix}\\frac{7}{9} & \\frac{4}{9} & - \\frac{5}{9}\\\\- \\frac{7}{27} & - \\frac{13}{27} & \\frac{14}{27}\\end{matrix}\\right]$"
      ],
      "text/plain": [
       "Matrix([\n",
       "[  7/9,    4/9,  -5/9],\n",
       "[-7/27, -13/27, 14/27]])"
      ]
     },
     "execution_count": 115,
     "metadata": {},
     "output_type": "execute_result"
    }
   ],
   "source": [
    "V"
   ]
  },
  {
   "cell_type": "code",
   "execution_count": 131,
   "id": "6a33d232",
   "metadata": {},
   "outputs": [
    {
     "data": {
      "text/latex": [
       "$\\displaystyle \\left[\\begin{matrix}3 & 8 & 1 & 8\\\\4 & 9 & 5 & 6\\\\3 & 2 & 2 & 3\\\\4 & 1 & 3 & 5\\end{matrix}\\right]$"
      ],
      "text/plain": [
       "Matrix([\n",
       "[3, 8, 1, 8],\n",
       "[4, 9, 5, 6],\n",
       "[3, 2, 2, 3],\n",
       "[4, 1, 3, 5]])"
      ]
     },
     "execution_count": 131,
     "metadata": {},
     "output_type": "execute_result"
    }
   ],
   "source": [
    "P = sy.Matrix(np.random.randint(1,10,size=(4,4)))\n",
    "P"
   ]
  },
  {
   "cell_type": "code",
   "execution_count": 132,
   "id": "054ed331",
   "metadata": {},
   "outputs": [
    {
     "data": {
      "text/latex": [
       "$\\displaystyle \\left[\\begin{matrix}2 & 2 & 1\\\\6 & 2 & 8\\\\7 & 7 & 2\\\\5 & 7 & 3\\end{matrix}\\right]$"
      ],
      "text/plain": [
       "Matrix([\n",
       "[2, 2, 1],\n",
       "[6, 2, 8],\n",
       "[7, 7, 2],\n",
       "[5, 7, 3]])"
      ]
     },
     "execution_count": 132,
     "metadata": {},
     "output_type": "execute_result"
    }
   ],
   "source": [
    "Q = sy.Matrix(np.random.randint(1,10,size=(4,3)))\n",
    "Q"
   ]
  },
  {
   "cell_type": "code",
   "execution_count": 133,
   "id": "a696d0f6",
   "metadata": {},
   "outputs": [],
   "source": [
    "R = np.matmul(P,Q)\n",
    "# A*B The number of colums of the left matrix must\n",
    "# be equal to the number of rows of the right\n",
    "# matrix"
   ]
  },
  {
   "cell_type": "code",
   "execution_count": 134,
   "id": "b8b09930",
   "metadata": {},
   "outputs": [
    {
     "data": {
      "text/latex": [
       "$\\displaystyle \\left[\\begin{matrix}101 & 85 & 93\\\\127 & 103 & 104\\\\47 & 45 & 32\\\\60 & 66 & 33\\end{matrix}\\right]$"
      ],
      "text/plain": [
       "Matrix([\n",
       "[101,  85,  93],\n",
       "[127, 103, 104],\n",
       "[ 47,  45,  32],\n",
       "[ 60,  66,  33]])"
      ]
     },
     "execution_count": 134,
     "metadata": {},
     "output_type": "execute_result"
    }
   ],
   "source": [
    "sy.Matrix(R)"
   ]
  },
  {
   "cell_type": "code",
   "execution_count": 138,
   "id": "e63634fc",
   "metadata": {},
   "outputs": [
    {
     "data": {
      "text/latex": [
       "$\\displaystyle \\left[\\begin{matrix}8\\\\5\\\\5\\\\2\\end{matrix}\\right]$"
      ],
      "text/plain": [
       "Matrix([\n",
       "[8],\n",
       "[5],\n",
       "[5],\n",
       "[2]])"
      ]
     },
     "execution_count": 138,
     "metadata": {},
     "output_type": "execute_result"
    }
   ],
   "source": [
    "# S is 4x1\n",
    "S  = sy.Matrix(np.random.randint(1,10,4))\n",
    "S"
   ]
  },
  {
   "cell_type": "code",
   "execution_count": 139,
   "id": "104eda9e",
   "metadata": {},
   "outputs": [
    {
     "data": {
      "text/latex": [
       "$\\displaystyle \\left[\\begin{matrix}3 & 8 & 1 & 8\\\\4 & 9 & 5 & 6\\\\3 & 2 & 2 & 3\\\\4 & 1 & 3 & 5\\end{matrix}\\right]$"
      ],
      "text/plain": [
       "Matrix([\n",
       "[3, 8, 1, 8],\n",
       "[4, 9, 5, 6],\n",
       "[3, 2, 2, 3],\n",
       "[4, 1, 3, 5]])"
      ]
     },
     "execution_count": 139,
     "metadata": {},
     "output_type": "execute_result"
    }
   ],
   "source": [
    "# P is 4x4\n",
    "P"
   ]
  },
  {
   "cell_type": "code",
   "execution_count": 140,
   "id": "a4ac704e",
   "metadata": {},
   "outputs": [],
   "source": [
    "# S*P is impossible"
   ]
  },
  {
   "cell_type": "code",
   "execution_count": 141,
   "id": "fdf86e00",
   "metadata": {},
   "outputs": [
    {
     "data": {
      "text/latex": [
       "$\\displaystyle \\left[\\begin{matrix}85\\\\114\\\\50\\\\62\\end{matrix}\\right]$"
      ],
      "text/plain": [
       "Matrix([\n",
       "[ 85],\n",
       "[114],\n",
       "[ 50],\n",
       "[ 62]])"
      ]
     },
     "execution_count": 141,
     "metadata": {},
     "output_type": "execute_result"
    }
   ],
   "source": [
    "# P*S  is possible\n",
    "P*S"
   ]
  },
  {
   "cell_type": "code",
   "execution_count": null,
   "id": "9f588001",
   "metadata": {},
   "outputs": [],
   "source": []
  }
 ],
 "metadata": {
  "kernelspec": {
   "display_name": "Python 3 (ipykernel)",
   "language": "python",
   "name": "python3"
  },
  "language_info": {
   "codemirror_mode": {
    "name": "ipython",
    "version": 3
   },
   "file_extension": ".py",
   "mimetype": "text/x-python",
   "name": "python",
   "nbconvert_exporter": "python",
   "pygments_lexer": "ipython3",
   "version": "3.9.12"
  }
 },
 "nbformat": 4,
 "nbformat_minor": 5
}
