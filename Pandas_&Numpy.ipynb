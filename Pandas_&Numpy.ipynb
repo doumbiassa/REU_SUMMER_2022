{
 "cells": [
  {
   "cell_type": "code",
   "execution_count": 7,
   "id": "b52a9d7b",
   "metadata": {},
   "outputs": [],
   "source": [
    "import pandas as pd\n",
    "import numpy as np\n",
    "import sympy as sy\n",
    "from numpy.random import randn"
   ]
  },
  {
   "cell_type": "code",
   "execution_count": 8,
   "id": "49425b3d",
   "metadata": {},
   "outputs": [],
   "source": [
    "array_1 = np.array([1,2,3])"
   ]
  },
  {
   "cell_type": "code",
   "execution_count": 9,
   "id": "b2475d32",
   "metadata": {},
   "outputs": [
    {
     "name": "stdout",
     "output_type": "stream",
     "text": [
      "[1 2 3]\n"
     ]
    }
   ],
   "source": [
    "print(array_1)"
   ]
  },
  {
   "cell_type": "code",
   "execution_count": 10,
   "id": "a739753b",
   "metadata": {},
   "outputs": [
    {
     "data": {
      "text/plain": [
       "numpy.ndarray"
      ]
     },
     "execution_count": 10,
     "metadata": {},
     "output_type": "execute_result"
    }
   ],
   "source": [
    "type(array_1)"
   ]
  },
  {
   "cell_type": "code",
   "execution_count": 11,
   "id": "25d2d593",
   "metadata": {},
   "outputs": [],
   "source": [
    "array_2 = np.array([-1,4,2])"
   ]
  },
  {
   "cell_type": "code",
   "execution_count": 12,
   "id": "8d62d2ed",
   "metadata": {},
   "outputs": [
    {
     "name": "stdout",
     "output_type": "stream",
     "text": [
      "[-1  4  2]\n"
     ]
    }
   ],
   "source": [
    "print(array_2)"
   ]
  },
  {
   "cell_type": "code",
   "execution_count": 14,
   "id": "52eafaea",
   "metadata": {},
   "outputs": [
    {
     "data": {
      "text/plain": [
       "3"
      ]
     },
     "execution_count": 14,
     "metadata": {},
     "output_type": "execute_result"
    }
   ],
   "source": [
    "len(array_2)"
   ]
  },
  {
   "cell_type": "code",
   "execution_count": 17,
   "id": "af0ba0af",
   "metadata": {},
   "outputs": [
    {
     "name": "stdout",
     "output_type": "stream",
     "text": [
      "13\n"
     ]
    }
   ],
   "source": [
    "# We want to perform the dot product of these two numpy \n",
    "#arrray\n",
    "for i in range(len(array_1)):\n",
    "    dot = sum(array_1*array_2)\n",
    "print(dot)"
   ]
  },
  {
   "cell_type": "code",
   "execution_count": 18,
   "id": "36b132d1",
   "metadata": {},
   "outputs": [
    {
     "data": {
      "text/plain": [
       "13"
      ]
     },
     "execution_count": 18,
     "metadata": {},
     "output_type": "execute_result"
    }
   ],
   "source": [
    "array_1@array_2"
   ]
  },
  {
   "cell_type": "code",
   "execution_count": 19,
   "id": "40a988f2",
   "metadata": {},
   "outputs": [
    {
     "data": {
      "text/plain": [
       "13"
      ]
     },
     "execution_count": 19,
     "metadata": {},
     "output_type": "execute_result"
    }
   ],
   "source": [
    "array_1.dot(array_2)"
   ]
  },
  {
   "cell_type": "code",
   "execution_count": 24,
   "id": "c88a96ae",
   "metadata": {},
   "outputs": [
    {
     "data": {
      "text/plain": [
       "array([2, 4, 6])"
      ]
     },
     "execution_count": 24,
     "metadata": {},
     "output_type": "execute_result"
    }
   ],
   "source": [
    "array_3 = array_1*2\n",
    "array_3"
   ]
  },
  {
   "cell_type": "code",
   "execution_count": 26,
   "id": "1625416e",
   "metadata": {},
   "outputs": [
    {
     "data": {
      "text/plain": [
       "[1, 2, 3, 1, 2, 3]"
      ]
     },
     "execution_count": 26,
     "metadata": {},
     "output_type": "execute_result"
    }
   ],
   "source": [
    "L1 = [1,2,3]\n",
    "L2  = L1*2\n",
    "L2"
   ]
  },
  {
   "cell_type": "code",
   "execution_count": 28,
   "id": "987ff171",
   "metadata": {},
   "outputs": [
    {
     "name": "stdout",
     "output_type": "stream",
     "text": [
      "[1.         1.41421356 1.73205081]\n"
     ]
    }
   ],
   "source": [
    "array_4 = np.sqrt(array_1)\n",
    "print(array_4)"
   ]
  },
  {
   "cell_type": "code",
   "execution_count": 29,
   "id": "56e444cb",
   "metadata": {},
   "outputs": [
    {
     "name": "stdout",
     "output_type": "stream",
     "text": [
      "[2.         3.41421356 4.73205081]\n"
     ]
    }
   ],
   "source": [
    "array_5 = array_4 +array_1\n",
    "print(array_5)"
   ]
  },
  {
   "cell_type": "code",
   "execution_count": 30,
   "id": "cacad10b",
   "metadata": {},
   "outputs": [],
   "source": [
    "# Broadcasting"
   ]
  },
  {
   "cell_type": "code",
   "execution_count": 40,
   "id": "7731eb82",
   "metadata": {},
   "outputs": [],
   "source": [
    "array_6 = np.array([1,2,3,4,5,6,7,8,9])"
   ]
  },
  {
   "cell_type": "code",
   "execution_count": 42,
   "id": "7d5c2fa4",
   "metadata": {},
   "outputs": [
    {
     "name": "stdout",
     "output_type": "stream",
     "text": [
      "[100 100   3   4   5   6   7   8   9]\n"
     ]
    }
   ],
   "source": [
    "array_6[0:2] = 100\n",
    "print(array_6)"
   ]
  },
  {
   "cell_type": "code",
   "execution_count": 44,
   "id": "8b2d9567",
   "metadata": {},
   "outputs": [],
   "source": [
    "array_6[3:7] = 1"
   ]
  },
  {
   "cell_type": "code",
   "execution_count": 45,
   "id": "76b87e78",
   "metadata": {},
   "outputs": [
    {
     "name": "stdout",
     "output_type": "stream",
     "text": [
      "[100 100   3   1   1   1   1   8   9]\n"
     ]
    }
   ],
   "source": [
    "print(array_6)"
   ]
  },
  {
   "cell_type": "code",
   "execution_count": 46,
   "id": "8f3ca47c",
   "metadata": {},
   "outputs": [],
   "source": [
    "# Matrices"
   ]
  },
  {
   "cell_type": "code",
   "execution_count": 52,
   "id": "fb5b7a17",
   "metadata": {},
   "outputs": [
    {
     "data": {
      "text/plain": [
       "array([[1, 2, 3],\n",
       "       [4, 5, 6],\n",
       "       [7, 8, 9]])"
      ]
     },
     "execution_count": 52,
     "metadata": {},
     "output_type": "execute_result"
    }
   ],
   "source": [
    "M = np.array([[1,2,3],[4,5,6],[7,8,9]])\n",
    "M"
   ]
  },
  {
   "cell_type": "code",
   "execution_count": 53,
   "id": "3c23bc7e",
   "metadata": {},
   "outputs": [
    {
     "data": {
      "text/plain": [
       "array([1., 2., 3., 4., 5., 6., 7., 8., 9.])"
      ]
     },
     "execution_count": 53,
     "metadata": {},
     "output_type": "execute_result"
    }
   ],
   "source": [
    "L = np.linspace(1,9,9)\n",
    "L"
   ]
  },
  {
   "cell_type": "code",
   "execution_count": null,
   "id": "fca09706",
   "metadata": {},
   "outputs": [],
   "source": [
    "M = L.reshape(3,3)"
   ]
  }
 ],
 "metadata": {
  "kernelspec": {
   "display_name": "Python 3 (ipykernel)",
   "language": "python",
   "name": "python3"
  },
  "language_info": {
   "codemirror_mode": {
    "name": "ipython",
    "version": 3
   },
   "file_extension": ".py",
   "mimetype": "text/x-python",
   "name": "python",
   "nbconvert_exporter": "python",
   "pygments_lexer": "ipython3",
   "version": "3.9.12"
  }
 },
 "nbformat": 4,
 "nbformat_minor": 5
}
