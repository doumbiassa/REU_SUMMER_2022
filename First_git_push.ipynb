{
 "cells": [
  {
   "cell_type": "markdown",
   "id": "24a88e32",
   "metadata": {},
   "source": [
    "# Day 3\n",
    "\n",
    "* Data Types\n",
    "    * Numbers\n",
    "    * Strings\n",
    "    * Variable Assignment\n",
    "    * Printing\n",
    "    * Strings methods\n",
    "    * Lists\n",
    "    * Dictionaries\n",
    "    * Boolians\n",
    "    * Tuples\n",
    "    * Sets\n",
    "* Basic Operations\n",
    "    * Comparison\n",
    "    * if, elif, else statements\n",
    "    * for loops\n",
    "    * while loops\n",
    "    * range()\n",
    "    * linspace()\n",
    "    * list comprehension\n",
    "    * functions\n",
    "    * lambda epressions\n",
    "    * map & filter\n",
    "    \n"
   ]
  },
  {
   "cell_type": "markdown",
   "id": "e7b873bb",
   "metadata": {},
   "source": [
    "## Numbers"
   ]
  },
  {
   "cell_type": "code",
   "execution_count": 1,
   "id": "e9463030",
   "metadata": {},
   "outputs": [
    {
     "data": {
      "text/plain": [
       "4"
      ]
     },
     "execution_count": 1,
     "metadata": {},
     "output_type": "execute_result"
    }
   ],
   "source": [
    "1+3"
   ]
  },
  {
   "cell_type": "code",
   "execution_count": 2,
   "id": "4370822b",
   "metadata": {},
   "outputs": [
    {
     "data": {
      "text/plain": [
       "18"
      ]
     },
     "execution_count": 2,
     "metadata": {},
     "output_type": "execute_result"
    }
   ],
   "source": [
    "(1+5)*(5-2)"
   ]
  },
  {
   "cell_type": "code",
   "execution_count": 3,
   "id": "bd3a464b",
   "metadata": {},
   "outputs": [
    {
     "data": {
      "text/plain": [
       "9"
      ]
     },
     "execution_count": 3,
     "metadata": {},
     "output_type": "execute_result"
    }
   ],
   "source": [
    "3**2"
   ]
  },
  {
   "cell_type": "markdown",
   "id": "fc73128e",
   "metadata": {},
   "source": [
    "This $\\%$ will return the remainder of the operation"
   ]
  },
  {
   "cell_type": "code",
   "execution_count": 4,
   "id": "44ec4b61",
   "metadata": {},
   "outputs": [
    {
     "data": {
      "text/plain": [
       "1"
      ]
     },
     "execution_count": 4,
     "metadata": {},
     "output_type": "execute_result"
    }
   ],
   "source": [
    "13%3"
   ]
  },
  {
   "cell_type": "code",
   "execution_count": 5,
   "id": "af61b271",
   "metadata": {},
   "outputs": [
    {
     "data": {
      "text/plain": [
       "3"
      ]
     },
     "execution_count": 5,
     "metadata": {},
     "output_type": "execute_result"
    }
   ],
   "source": [
    "15//4"
   ]
  },
  {
   "cell_type": "code",
   "execution_count": 6,
   "id": "49fe4804",
   "metadata": {},
   "outputs": [
    {
     "data": {
      "text/plain": [
       "1"
      ]
     },
     "execution_count": 6,
     "metadata": {},
     "output_type": "execute_result"
    }
   ],
   "source": [
    "# This will return an integer as the quotient\n",
    "3//2"
   ]
  },
  {
   "cell_type": "code",
   "execution_count": 7,
   "id": "2c5c6a10",
   "metadata": {},
   "outputs": [
    {
     "data": {
      "text/plain": [
       "float"
      ]
     },
     "execution_count": 7,
     "metadata": {},
     "output_type": "execute_result"
    }
   ],
   "source": [
    "type(2.17327489)"
   ]
  },
  {
   "cell_type": "code",
   "execution_count": 8,
   "id": "5d358df3",
   "metadata": {},
   "outputs": [
    {
     "data": {
      "text/plain": [
       "float"
      ]
     },
     "execution_count": 8,
     "metadata": {},
     "output_type": "execute_result"
    }
   ],
   "source": [
    "type(-3.4)"
   ]
  },
  {
   "cell_type": "code",
   "execution_count": 9,
   "id": "d841eff3",
   "metadata": {},
   "outputs": [
    {
     "data": {
      "text/plain": [
       "float"
      ]
     },
     "execution_count": 9,
     "metadata": {},
     "output_type": "execute_result"
    }
   ],
   "source": [
    "type((2)**0.5)"
   ]
  },
  {
   "cell_type": "code",
   "execution_count": 10,
   "id": "799afb38",
   "metadata": {},
   "outputs": [
    {
     "data": {
      "text/plain": [
       "float"
      ]
     },
     "execution_count": 10,
     "metadata": {},
     "output_type": "execute_result"
    }
   ],
   "source": [
    "type((16)**0.5)\n"
   ]
  },
  {
   "cell_type": "code",
   "execution_count": 11,
   "id": "a9b1220d",
   "metadata": {},
   "outputs": [
    {
     "name": "stdout",
     "output_type": "stream",
     "text": [
      "I am a string and I am in a single quotation\n"
     ]
    }
   ],
   "source": [
    "# Strings are sequences of alpha character data.\n",
    "print('I am a string and I am in a single quotation')"
   ]
  },
  {
   "cell_type": "code",
   "execution_count": 12,
   "id": "bc9a8fc3",
   "metadata": {},
   "outputs": [
    {
     "data": {
      "text/plain": [
       "str"
      ]
     },
     "execution_count": 12,
     "metadata": {},
     "output_type": "execute_result"
    }
   ],
   "source": [
    "type('I am a string and I am in a single quotation')"
   ]
  },
  {
   "cell_type": "code",
   "execution_count": 13,
   "id": "e6dfc915",
   "metadata": {},
   "outputs": [
    {
     "name": "stdout",
     "output_type": "stream",
     "text": [
      "I am a string and I am in double quotation\n"
     ]
    }
   ],
   "source": [
    "print(\"I am a string and I am in double quotation\")"
   ]
  },
  {
   "cell_type": "code",
   "execution_count": 14,
   "id": "ab238646",
   "metadata": {},
   "outputs": [
    {
     "data": {
      "text/plain": [
       "str"
      ]
     },
     "execution_count": 14,
     "metadata": {},
     "output_type": "execute_result"
    }
   ],
   "source": [
    "type(\"I am a string and I am in double quotation\")"
   ]
  },
  {
   "cell_type": "code",
   "execution_count": 15,
   "id": "7e6c5687",
   "metadata": {},
   "outputs": [
    {
     "data": {
      "text/plain": [
       "str"
      ]
     },
     "execution_count": 15,
     "metadata": {},
     "output_type": "execute_result"
    }
   ],
   "source": [
    "type(\" \")"
   ]
  },
  {
   "cell_type": "markdown",
   "id": "decd121f",
   "metadata": {},
   "source": [
    "# Variable Assignment"
   ]
  },
  {
   "cell_type": "code",
   "execution_count": 16,
   "id": "4ac275de",
   "metadata": {},
   "outputs": [],
   "source": [
    "name = 'Moussa'"
   ]
  },
  {
   "cell_type": "code",
   "execution_count": 17,
   "id": "074e96ca",
   "metadata": {},
   "outputs": [
    {
     "ename": "SyntaxError",
     "evalue": "invalid decimal literal (739953904.py, line 1)",
     "output_type": "error",
     "traceback": [
      "\u001b[1;36m  Input \u001b[1;32mIn [17]\u001b[1;36m\u001b[0m\n\u001b[1;33m    123_var = 10\u001b[0m\n\u001b[1;37m       ^\u001b[0m\n\u001b[1;31mSyntaxError\u001b[0m\u001b[1;31m:\u001b[0m invalid decimal literal\n"
     ]
    }
   ],
   "source": [
    "123_var = 10"
   ]
  },
  {
   "cell_type": "code",
   "execution_count": null,
   "id": "f4d760f0",
   "metadata": {},
   "outputs": [],
   "source": [
    "var_123 =4"
   ]
  },
  {
   "cell_type": "code",
   "execution_count": null,
   "id": "fb0c2f5a",
   "metadata": {},
   "outputs": [],
   "source": [
    "x = 1\n",
    "y  = 2\n",
    "z = x+ y"
   ]
  },
  {
   "cell_type": "code",
   "execution_count": null,
   "id": "3b7de8ba",
   "metadata": {
    "scrolled": true
   },
   "outputs": [],
   "source": [
    "z"
   ]
  },
  {
   "cell_type": "code",
   "execution_count": null,
   "id": "4504b314",
   "metadata": {},
   "outputs": [],
   "source": [
    "x = \"Moussa\""
   ]
  },
  {
   "cell_type": "code",
   "execution_count": null,
   "id": "3ca9d031",
   "metadata": {},
   "outputs": [],
   "source": [
    "x"
   ]
  },
  {
   "cell_type": "code",
   "execution_count": null,
   "id": "92e112c0",
   "metadata": {},
   "outputs": [],
   "source": [
    "print(x)"
   ]
  },
  {
   "cell_type": "code",
   "execution_count": null,
   "id": "89730afd",
   "metadata": {},
   "outputs": [],
   "source": [
    "name = 'Madison'"
   ]
  },
  {
   "cell_type": "code",
   "execution_count": null,
   "id": "bfc6e27f",
   "metadata": {},
   "outputs": [],
   "source": [
    "print('Hello',name,\"welcome to REU\")"
   ]
  },
  {
   "cell_type": "code",
   "execution_count": null,
   "id": "9669d139",
   "metadata": {},
   "outputs": [],
   "source": [
    "print('Hello '+ name+\" welcome to REU\")"
   ]
  },
  {
   "cell_type": "code",
   "execution_count": null,
   "id": "a16631e0",
   "metadata": {},
   "outputs": [],
   "source": [
    "first_name = 'Madison'\n",
    "last_name = 'Norwood'"
   ]
  },
  {
   "cell_type": "code",
   "execution_count": null,
   "id": "7684cbb6",
   "metadata": {},
   "outputs": [],
   "source": [
    "print('Hello HU! My first name is {one} and my last name is {two}'.format(two=last_name,one=first_name))"
   ]
  },
  {
   "cell_type": "code",
   "execution_count": null,
   "id": "440b8004",
   "metadata": {},
   "outputs": [],
   "source": []
  },
  {
   "cell_type": "code",
   "execution_count": null,
   "id": "d4b2b720",
   "metadata": {},
   "outputs": [],
   "source": [
    "print('Hello HU! My first name is {} and my last name is {}'.format(first_name,last_name ))"
   ]
  },
  {
   "cell_type": "code",
   "execution_count": null,
   "id": "5614023d",
   "metadata": {},
   "outputs": [],
   "source": [
    "print('Hello HU! My first name is {} and my last name is {}'.format(last_name, first_name))"
   ]
  },
  {
   "cell_type": "markdown",
   "id": "5e46f782",
   "metadata": {},
   "source": [
    "# Strings Methods"
   ]
  },
  {
   "cell_type": "code",
   "execution_count": null,
   "id": "c46265ff",
   "metadata": {},
   "outputs": [],
   "source": [
    "name = 'destin'"
   ]
  },
  {
   "cell_type": "code",
   "execution_count": null,
   "id": "e076075e",
   "metadata": {},
   "outputs": [],
   "source": [
    "# Title method\n",
    "print(name.title())"
   ]
  },
  {
   "cell_type": "code",
   "execution_count": null,
   "id": "6005e9d9",
   "metadata": {},
   "outputs": [],
   "source": [
    "# Upper method\n",
    "print(name.upper())"
   ]
  },
  {
   "cell_type": "code",
   "execution_count": null,
   "id": "4cea1657",
   "metadata": {},
   "outputs": [],
   "source": [
    "# lower method\n",
    "school = 'HOWARD UNIVERSITY'\n",
    "print(school.lower())"
   ]
  },
  {
   "cell_type": "code",
   "execution_count": null,
   "id": "266948cc",
   "metadata": {},
   "outputs": [],
   "source": [
    "print(school.split())"
   ]
  },
  {
   "cell_type": "code",
   "execution_count": null,
   "id": "bd37763e",
   "metadata": {},
   "outputs": [],
   "source": [
    "a_string = 'h+e+l+l+o'"
   ]
  },
  {
   "cell_type": "code",
   "execution_count": null,
   "id": "a5a0f220",
   "metadata": {},
   "outputs": [],
   "source": [
    "print(a_string.split('+'))"
   ]
  },
  {
   "cell_type": "code",
   "execution_count": null,
   "id": "a55cb965",
   "metadata": {},
   "outputs": [],
   "source": [
    "# Count method\n",
    "activity = 'I am learning Python'\n",
    "print(activity.count('n'))"
   ]
  },
  {
   "cell_type": "code",
   "execution_count": null,
   "id": "c4b04fcd",
   "metadata": {},
   "outputs": [],
   "source": [
    "# Center method\n",
    "print(activity.center(70))"
   ]
  },
  {
   "cell_type": "code",
   "execution_count": null,
   "id": "465fb73f",
   "metadata": {},
   "outputs": [],
   "source": [
    "type('12345')"
   ]
  },
  {
   "cell_type": "code",
   "execution_count": null,
   "id": "4b8e9532",
   "metadata": {},
   "outputs": [],
   "source": [
    "num_str = '12345'"
   ]
  },
  {
   "cell_type": "code",
   "execution_count": null,
   "id": "cd94f169",
   "metadata": {},
   "outputs": [],
   "source": [
    "# IS_Numeric method\n",
    "print(num_str.isnumeric())"
   ]
  },
  {
   "cell_type": "code",
   "execution_count": null,
   "id": "e44d0fc7",
   "metadata": {},
   "outputs": [],
   "source": [
    "print(school.isnumeric())"
   ]
  },
  {
   "cell_type": "code",
   "execution_count": null,
   "id": "eb214695",
   "metadata": {},
   "outputs": [],
   "source": [
    "# Strip method\n",
    "name =  \"  abc     \""
   ]
  },
  {
   "cell_type": "code",
   "execution_count": null,
   "id": "c175dcf8",
   "metadata": {},
   "outputs": [],
   "source": [
    "# len will return the length of the string\n",
    "len(name)"
   ]
  },
  {
   "cell_type": "code",
   "execution_count": null,
   "id": "6fc4075e",
   "metadata": {},
   "outputs": [],
   "source": [
    "a = name.lstrip()\n",
    "len(a)"
   ]
  },
  {
   "cell_type": "code",
   "execution_count": null,
   "id": "430a9697",
   "metadata": {},
   "outputs": [],
   "source": [
    "b = name.rstrip()\n",
    "len(b)"
   ]
  },
  {
   "cell_type": "code",
   "execution_count": null,
   "id": "653fd1b4",
   "metadata": {},
   "outputs": [],
   "source": [
    "c = name.strip()\n",
    "len(c)"
   ]
  },
  {
   "cell_type": "code",
   "execution_count": null,
   "id": "45f11e5c",
   "metadata": {},
   "outputs": [],
   "source": [
    "# List is used to store multiple variable into a single variable\n",
    "a_list = ['Fruit', 'Vegetable','Seafood',\"Meat lover\", 'car','house']\n",
    "          # 0         1            2        3      4       5     6"
   ]
  },
  {
   "cell_type": "code",
   "execution_count": null,
   "id": "95597b6f",
   "metadata": {},
   "outputs": [],
   "source": [
    "a_list[0]            "
   ]
  },
  {
   "cell_type": "code",
   "execution_count": null,
   "id": "219a9a77",
   "metadata": {},
   "outputs": [],
   "source": [
    "a_list[-1]"
   ]
  },
  {
   "cell_type": "code",
   "execution_count": null,
   "id": "d426e0b6",
   "metadata": {},
   "outputs": [],
   "source": [
    "a_list[0:3]\n",
    "# Note that the index 3 is excluded"
   ]
  },
  {
   "cell_type": "code",
   "execution_count": null,
   "id": "042ee30b",
   "metadata": {},
   "outputs": [],
   "source": [
    "a_list[0:5]"
   ]
  },
  {
   "cell_type": "code",
   "execution_count": null,
   "id": "22880e79",
   "metadata": {},
   "outputs": [],
   "source": [
    "a_list[0] = 'Salad'"
   ]
  },
  {
   "cell_type": "code",
   "execution_count": null,
   "id": "c2ac85bb",
   "metadata": {},
   "outputs": [],
   "source": [
    "a_list"
   ]
  },
  {
   "cell_type": "code",
   "execution_count": null,
   "id": "45727c27",
   "metadata": {},
   "outputs": [],
   "source": [
    "a_list[::-1]"
   ]
  },
  {
   "cell_type": "code",
   "execution_count": null,
   "id": "2a9998a5",
   "metadata": {},
   "outputs": [],
   "source": [
    "school[::-1]"
   ]
  },
  {
   "cell_type": "code",
   "execution_count": null,
   "id": "1380e15a",
   "metadata": {},
   "outputs": [],
   "source": [
    "a_list.append('Fish') # Adding member to a list"
   ]
  },
  {
   "cell_type": "code",
   "execution_count": null,
   "id": "1db44731",
   "metadata": {},
   "outputs": [],
   "source": [
    "a_list"
   ]
  },
  {
   "cell_type": "code",
   "execution_count": null,
   "id": "1562db59",
   "metadata": {},
   "outputs": [],
   "source": [
    "a_list.insert(7,'Shrimp')\n"
   ]
  },
  {
   "cell_type": "code",
   "execution_count": null,
   "id": "e85b210e",
   "metadata": {},
   "outputs": [],
   "source": [
    "print(a_list)"
   ]
  },
  {
   "cell_type": "code",
   "execution_count": null,
   "id": "1c1861d5",
   "metadata": {},
   "outputs": [],
   "source": [
    "# pop method\n",
    "a_list.pop(1)"
   ]
  },
  {
   "cell_type": "code",
   "execution_count": null,
   "id": "04630925",
   "metadata": {},
   "outputs": [],
   "source": [
    "a_list"
   ]
  },
  {
   "cell_type": "code",
   "execution_count": null,
   "id": "36197b60",
   "metadata": {},
   "outputs": [],
   "source": [
    "# Remove method\n",
    "a_list.remove('car')\n"
   ]
  },
  {
   "cell_type": "code",
   "execution_count": null,
   "id": "cece0e28",
   "metadata": {},
   "outputs": [],
   "source": [
    "a_list"
   ]
  },
  {
   "cell_type": "code",
   "execution_count": null,
   "id": "e5fff26a",
   "metadata": {},
   "outputs": [],
   "source": [
    "b_list = ['a','b','c','d']"
   ]
  },
  {
   "cell_type": "code",
   "execution_count": null,
   "id": "61787f65",
   "metadata": {},
   "outputs": [],
   "source": [
    "add_list = a_list + b_list"
   ]
  },
  {
   "cell_type": "code",
   "execution_count": null,
   "id": "5c79e0f6",
   "metadata": {},
   "outputs": [],
   "source": [
    "add_list"
   ]
  },
  {
   "cell_type": "markdown",
   "id": "7b89e943",
   "metadata": {},
   "source": [
    "# Dictionary\n",
    "#### Dictionaries are used to store data in key value pair"
   ]
  },
  {
   "cell_type": "code",
   "execution_count": null,
   "id": "c2c5d7a2",
   "metadata": {},
   "outputs": [],
   "source": [
    "firs_dict = {\n",
    "  \"brand\": \"Ford\",\n",
    "  \"model\": \"Mustang\",\n",
    "  \"year\": 1964,\n",
    "    \"Mileage\" : 200000,\n",
    "    'Color':'Green',\n",
    "    \"Cylinder\" : 6\n",
    "}"
   ]
  },
  {
   "cell_type": "code",
   "execution_count": null,
   "id": "cefdb49e",
   "metadata": {},
   "outputs": [],
   "source": [
    "firs_dict['model']"
   ]
  },
  {
   "cell_type": "code",
   "execution_count": null,
   "id": "431847ae",
   "metadata": {},
   "outputs": [],
   "source": [
    "firs_dict['Origin'] = 'Domestic'"
   ]
  },
  {
   "cell_type": "code",
   "execution_count": null,
   "id": "139ca810",
   "metadata": {},
   "outputs": [],
   "source": [
    "firs_dict"
   ]
  },
  {
   "cell_type": "code",
   "execution_count": null,
   "id": "7e6fb173",
   "metadata": {},
   "outputs": [],
   "source": [
    "firs_dict.pop('Color')"
   ]
  },
  {
   "cell_type": "code",
   "execution_count": null,
   "id": "0ed905a1",
   "metadata": {},
   "outputs": [],
   "source": [
    "firs_dict"
   ]
  },
  {
   "cell_type": "code",
   "execution_count": null,
   "id": "161b9eb0",
   "metadata": {},
   "outputs": [],
   "source": [
    "firs_dict.items()"
   ]
  },
  {
   "cell_type": "code",
   "execution_count": null,
   "id": "0e833873",
   "metadata": {},
   "outputs": [],
   "source": [
    "firs_dict.keys()"
   ]
  },
  {
   "cell_type": "code",
   "execution_count": null,
   "id": "e06f04ce",
   "metadata": {},
   "outputs": [],
   "source": [
    "firs_dict.values()"
   ]
  },
  {
   "cell_type": "markdown",
   "id": "53ce3747",
   "metadata": {},
   "source": [
    "# Boolian"
   ]
  },
  {
   "cell_type": "code",
   "execution_count": null,
   "id": "849c9520",
   "metadata": {},
   "outputs": [],
   "source": [
    "# True or False, Approved, Denied, Yes, No, 1,0"
   ]
  },
  {
   "cell_type": "code",
   "execution_count": null,
   "id": "894f3a01",
   "metadata": {},
   "outputs": [],
   "source": [
    "10 > 3"
   ]
  },
  {
   "cell_type": "code",
   "execution_count": null,
   "id": "66b7a2c3",
   "metadata": {},
   "outputs": [],
   "source": [
    "-10 > 3"
   ]
  },
  {
   "cell_type": "code",
   "execution_count": null,
   "id": "90d29630",
   "metadata": {},
   "outputs": [],
   "source": [
    "print((10 > 3) | (-2 > 5))"
   ]
  },
  {
   "cell_type": "code",
   "execution_count": null,
   "id": "7a004b7d",
   "metadata": {},
   "outputs": [],
   "source": [
    "print((10 > 3) & (-2 > 5))"
   ]
  },
  {
   "cell_type": "markdown",
   "id": "4934acc8",
   "metadata": {},
   "source": [
    "# Tuples"
   ]
  },
  {
   "cell_type": "code",
   "execution_count": null,
   "id": "748e5d80",
   "metadata": {},
   "outputs": [],
   "source": [
    "# Unmutable data"
   ]
  },
  {
   "cell_type": "code",
   "execution_count": null,
   "id": "df06deb8",
   "metadata": {},
   "outputs": [],
   "source": [
    "my_tuple = ('user_name', 'password','secret_question')"
   ]
  },
  {
   "cell_type": "code",
   "execution_count": null,
   "id": "5dba3297",
   "metadata": {},
   "outputs": [],
   "source": [
    "a,b,c  = my_tuple"
   ]
  },
  {
   "cell_type": "code",
   "execution_count": null,
   "id": "66070cb9",
   "metadata": {},
   "outputs": [],
   "source": [
    "a"
   ]
  },
  {
   "cell_type": "code",
   "execution_count": null,
   "id": "674150f2",
   "metadata": {},
   "outputs": [],
   "source": [
    "b"
   ]
  },
  {
   "cell_type": "code",
   "execution_count": null,
   "id": "dcacd4be",
   "metadata": {},
   "outputs": [],
   "source": [
    "c"
   ]
  },
  {
   "cell_type": "code",
   "execution_count": null,
   "id": "a93a5c1c",
   "metadata": {},
   "outputs": [],
   "source": [
    "my_tuple[0]"
   ]
  },
  {
   "cell_type": "code",
   "execution_count": null,
   "id": "a2f90ca0",
   "metadata": {},
   "outputs": [],
   "source": [
    "my_tuple[0] = 'name'"
   ]
  },
  {
   "cell_type": "code",
   "execution_count": null,
   "id": "6eb4ba2c",
   "metadata": {},
   "outputs": [],
   "source": [
    "l1 = [1,2,3,4,5]"
   ]
  },
  {
   "cell_type": "code",
   "execution_count": null,
   "id": "63bce9c4",
   "metadata": {},
   "outputs": [],
   "source": [
    "t1 = tuple(l1)"
   ]
  },
  {
   "cell_type": "code",
   "execution_count": null,
   "id": "c0ef6b73",
   "metadata": {},
   "outputs": [],
   "source": [
    "t1[-1] =6"
   ]
  },
  {
   "cell_type": "markdown",
   "id": "15a4f53d",
   "metadata": {},
   "source": [
    "# Set"
   ]
  },
  {
   "cell_type": "code",
   "execution_count": null,
   "id": "d741ac23",
   "metadata": {},
   "outputs": [],
   "source": [
    "set([1,1,1,3,3,4,5,6,7,7])"
   ]
  },
  {
   "cell_type": "code",
   "execution_count": null,
   "id": "499e5f7c",
   "metadata": {},
   "outputs": [],
   "source": [
    "S1 = {'hello','hi','hola','salut!'}"
   ]
  },
  {
   "cell_type": "code",
   "execution_count": null,
   "id": "afe64fb4",
   "metadata": {},
   "outputs": [],
   "source": [
    "S1"
   ]
  },
  {
   "cell_type": "markdown",
   "id": "2884e00c",
   "metadata": {},
   "source": [
    "# Basic Operations"
   ]
  },
  {
   "cell_type": "code",
   "execution_count": null,
   "id": "9d3d4d80",
   "metadata": {},
   "outputs": [],
   "source": [
    " 1 > 3"
   ]
  },
  {
   "cell_type": "code",
   "execution_count": null,
   "id": "ee71fdfa",
   "metadata": {},
   "outputs": [],
   "source": [
    " 5 >= 5"
   ]
  },
  {
   "cell_type": "code",
   "execution_count": null,
   "id": "ef536d51",
   "metadata": {},
   "outputs": [],
   "source": [
    "1 == 1"
   ]
  },
  {
   "cell_type": "code",
   "execution_count": null,
   "id": "0716c95a",
   "metadata": {},
   "outputs": [],
   "source": [
    "'Hi' == 'Bye'"
   ]
  },
  {
   "cell_type": "code",
   "execution_count": null,
   "id": "e7ccf329",
   "metadata": {},
   "outputs": [],
   "source": [
    "'Hi' == 'hi'"
   ]
  },
  {
   "cell_type": "code",
   "execution_count": null,
   "id": "8c92173f",
   "metadata": {},
   "outputs": [],
   "source": [
    "x = 5"
   ]
  },
  {
   "cell_type": "markdown",
   "id": "6aa2b6db",
   "metadata": {},
   "source": [
    "# If elif else"
   ]
  },
  {
   "cell_type": "code",
   "execution_count": null,
   "id": "a248f468",
   "metadata": {},
   "outputs": [],
   "source": [
    "if True:\n",
    "    print('Yes')"
   ]
  },
  {
   "cell_type": "code",
   "execution_count": null,
   "id": "1176ae07",
   "metadata": {},
   "outputs": [],
   "source": [
    "if True == False:\n",
    "    print('Nope')"
   ]
  },
  {
   "cell_type": "code",
   "execution_count": null,
   "id": "cf367217",
   "metadata": {},
   "outputs": [],
   "source": [
    "if 2 > 5:\n",
    "    print(\"Bigger\")\n",
    "elif 3 <= 3:\n",
    "    print(\"Same\")\n",
    "else:\n",
    "    print(\"Different\")"
   ]
  },
  {
   "cell_type": "code",
   "execution_count": null,
   "id": "70dacd13",
   "metadata": {},
   "outputs": [],
   "source": [
    "if 2 > 5:\n",
    "    print(\"Bigger\")\n",
    "elif 3 >= 3:\n",
    "    print(\"Same\")\n",
    "else:\n",
    "    print(\"Different\")"
   ]
  },
  {
   "cell_type": "code",
   "execution_count": null,
   "id": "34729417",
   "metadata": {},
   "outputs": [],
   "source": [
    "emp_names = ['John','Mia','Josh','Kevin','Lee']\n",
    "name = 'Jon'"
   ]
  },
  {
   "cell_type": "code",
   "execution_count": null,
   "id": "9b13cf1d",
   "metadata": {},
   "outputs": [],
   "source": [
    "if name == 'John' or name == 'Mia' or name == 'Josh' or name == \"Lee\":\n",
    "    print('You are an employer. Hence access granted')\n",
    "else:\n",
    "    print(\"Sorry! Employees only\")"
   ]
  },
  {
   "cell_type": "code",
   "execution_count": null,
   "id": "5c5156fb",
   "metadata": {},
   "outputs": [],
   "source": [
    "name = 'Mia'"
   ]
  },
  {
   "cell_type": "code",
   "execution_count": null,
   "id": "c0d94a12",
   "metadata": {},
   "outputs": [],
   "source": [
    "if name in emp_names:\n",
    "     print('You are an employer. Hence access granted')\n",
    "else:\n",
    "    print(\"Sorry! Employees only\")"
   ]
  },
  {
   "cell_type": "markdown",
   "id": "4f30b105",
   "metadata": {},
   "source": [
    "# Input"
   ]
  },
  {
   "cell_type": "code",
   "execution_count": null,
   "id": "c519ace6",
   "metadata": {},
   "outputs": [],
   "source": [
    "your_num = int(input(\"Please enter your number: \"))"
   ]
  },
  {
   "cell_type": "code",
   "execution_count": null,
   "id": "75004a0d",
   "metadata": {},
   "outputs": [],
   "source": [
    "type(your_num)"
   ]
  },
  {
   "cell_type": "code",
   "execution_count": 18,
   "id": "e603368f",
   "metadata": {},
   "outputs": [
    {
     "name": "stdout",
     "output_type": "stream",
     "text": [
      "Please enter your first number3\n",
      "Please enter your second number4\n",
      "The maximum is: 4\n"
     ]
    }
   ],
   "source": [
    "n1 = int(input(\"Please enter your first number\"))\n",
    "n2 = int(input(\"Please enter your second number\"))\n",
    "if n1 > n2:\n",
    "    m = n1\n",
    "else:\n",
    "    m = n2\n",
    "print('The maximum is:', m)"
   ]
  },
  {
   "cell_type": "code",
   "execution_count": 19,
   "id": "2f5a2482",
   "metadata": {},
   "outputs": [
    {
     "ename": "SyntaxError",
     "evalue": "invalid syntax (1300946746.py, line 1)",
     "output_type": "error",
     "traceback": [
      "\u001b[1;36m  Input \u001b[1;32mIn [19]\u001b[1;36m\u001b[0m\n\u001b[1;33m    5! = 5x4x3x2x1\u001b[0m\n\u001b[1;37m     ^\u001b[0m\n\u001b[1;31mSyntaxError\u001b[0m\u001b[1;31m:\u001b[0m invalid syntax\n"
     ]
    }
   ],
   "source": [
    "5! = 5x4x3x2x1"
   ]
  },
  {
   "cell_type": "code",
   "execution_count": null,
   "id": "460ea717",
   "metadata": {},
   "outputs": [],
   "source": [
    "# This code will return the factorial of a number\n",
    "n = int(input(\"Please enter a positive integer: \"))\n",
    "i =1\n",
    "p = 1\n",
    "while i <= n:\n",
    "    #p = p*i\n",
    "    p *= i\n",
    "    #i = i+1\n",
    "    i += 1\n",
    "print('The factorial of', n, \"is\", p)"
   ]
  },
  {
   "cell_type": "code",
   "execution_count": null,
   "id": "4afeb77c",
   "metadata": {},
   "outputs": [],
   "source": [
    "n = 5\n",
    "while i <= 5:\n",
    "When i = 1\n",
    "p = 1*1\n",
    "When i = 2\n",
    "p = 1*1*2\n",
    "when i = 3\n",
    "p = 1*2*3\n",
    "when i = 4\n",
    "p = 1*2*3*4\n",
    "when i = 5\n",
    "p = 1*2*3*4*5\n",
    "when i =6 -->> print('Statement')\n",
    "\n"
   ]
  },
  {
   "cell_type": "code",
   "execution_count": null,
   "id": "473629c8",
   "metadata": {},
   "outputs": [],
   "source": [
    "# practice Use if, elif, else statement to find the maximum of three numbers"
   ]
  },
  {
   "cell_type": "code",
   "execution_count": null,
   "id": "cdb22c5d",
   "metadata": {},
   "outputs": [],
   "source": [
    "maxi = 0\n",
    "num1  = float(input('Please enter first number: '))\n",
    "num2  = float(input('Please enter second number: '))\n",
    "num3  = float(input('Please enter third number: '))\n",
    "if (num1 > num2) and (num1 > num3):\n",
    "    maxi = num1\n",
    "    print('You are in the if block')\n",
    "elif (num2 > num1) and (num2 > num3):\n",
    "    maxi = num2\n",
    "    print('You are in the elif block')\n",
    "else:\n",
    "    maxi = num3\n",
    "    print('You are in the else block')\n",
    "print(\"The maximum is: \", maxi)"
   ]
  },
  {
   "cell_type": "markdown",
   "id": "dc6537ef",
   "metadata": {},
   "source": [
    "# For loops"
   ]
  },
  {
   "cell_type": "code",
   "execution_count": null,
   "id": "07f01740",
   "metadata": {},
   "outputs": [],
   "source": [
    "Seq = [1,2,3,4,5,6,7,8,9,10]\n",
    "for num in Seq:\n",
    "    print(num**3)"
   ]
  },
  {
   "cell_type": "code",
   "execution_count": null,
   "id": "4c69f741",
   "metadata": {},
   "outputs": [],
   "source": [
    "for num in Seq:\n",
    "    print(\"*\"*num)"
   ]
  },
  {
   "cell_type": "code",
   "execution_count": null,
   "id": "25d720b7",
   "metadata": {},
   "outputs": [],
   "source": [
    "for num in Seq:\n",
    "    print(( \"Hi\"*num).center(60))"
   ]
  },
  {
   "cell_type": "code",
   "execution_count": null,
   "id": "8611266d",
   "metadata": {},
   "outputs": [],
   "source": [
    "# HW Try pring same tiangle but reverse, heart symbol using codio"
   ]
  },
  {
   "cell_type": "code",
   "execution_count": null,
   "id": "d7d1e916",
   "metadata": {},
   "outputs": [],
   "source": [
    "name_gpa = {'Ali':4.0, 'Kevin':4.0, \"BErtrum\":3.2, 'Sean':3.5, 'Jennifer':3.9}"
   ]
  },
  {
   "cell_type": "code",
   "execution_count": null,
   "id": "5e6a4977",
   "metadata": {},
   "outputs": [],
   "source": [
    "emp_list = []\n",
    "for name, gpa in name_gpa.items():\n",
    "    if gpa >= 3.5:\n",
    "        emp_list.append(name)\n",
    "print(emp_list)"
   ]
  },
  {
   "cell_type": "code",
   "execution_count": null,
   "id": "3717a01a",
   "metadata": {},
   "outputs": [],
   "source": [
    "16--> 16,8,4,2,1  after 8, there no more factor of 16\n",
    "15---> 15,5, 3,1"
   ]
  },
  {
   "cell_type": "code",
   "execution_count": null,
   "id": "c42460d4",
   "metadata": {},
   "outputs": [],
   "source": [
    "# The factors of 12 are 12,6,4,3,2,1\n",
    "n = int(input(\"Please enter a positive integer: \"))\n",
    "print('Factors of', n, 'are', 1, end = ',')\n",
    "i = 2\n",
    "count = 2\n",
    "suma = n+1\n",
    "while i <= n//2:\n",
    "    if n % i == 0:\n",
    "        print(i, end=',')\n",
    "        count += 1\n",
    "        suma = suma +i\n",
    "    i += 1\n",
    "print(n)\n",
    "print(\"The number of factors is \", count)\n",
    "print(\"The sum of the factors is: \",suma )"
   ]
  },
  {
   "cell_type": "code",
   "execution_count": null,
   "id": "4bb60a18",
   "metadata": {},
   "outputs": [],
   "source": [
    "# Practice: Find the prime factors of a number"
   ]
  },
  {
   "cell_type": "code",
   "execution_count": 22,
   "id": "f0fa3dfc",
   "metadata": {},
   "outputs": [
    {
     "name": "stdout",
     "output_type": "stream",
     "text": [
      "/c/Users/doumb/Desktop/NEW_Folder/REU_SUMMER_2022\n"
     ]
    }
   ],
   "source": [
    "!pwd"
   ]
  },
  {
   "cell_type": "code",
   "execution_count": 23,
   "id": "c9ceacc1",
   "metadata": {},
   "outputs": [],
   "source": [
    "def add_num(num1,num2):\n",
    "    return num1+num2"
   ]
  },
  {
   "cell_type": "code",
   "execution_count": 25,
   "id": "15fd587d",
   "metadata": {},
   "outputs": [
    {
     "data": {
      "text/plain": [
       "8"
      ]
     },
     "execution_count": 25,
     "metadata": {},
     "output_type": "execute_result"
    }
   ],
   "source": [
    "add_num(2,6)"
   ]
  },
  {
   "cell_type": "code",
   "execution_count": 32,
   "id": "ddbd224d",
   "metadata": {},
   "outputs": [],
   "source": [
    "def double_num(num):\n",
    "    return num*2"
   ]
  },
  {
   "cell_type": "code",
   "execution_count": 30,
   "id": "13c06819",
   "metadata": {},
   "outputs": [
    {
     "data": {
      "text/plain": [
       "12"
      ]
     },
     "execution_count": 30,
     "metadata": {},
     "output_type": "execute_result"
    }
   ],
   "source": [
    "double_num(6)"
   ]
  },
  {
   "cell_type": "code",
   "execution_count": 33,
   "id": "4ff9278c",
   "metadata": {},
   "outputs": [],
   "source": [
    "s = [1,2,3,4,5]"
   ]
  },
  {
   "cell_type": "code",
   "execution_count": 34,
   "id": "ee9537e5",
   "metadata": {},
   "outputs": [
    {
     "data": {
      "text/plain": [
       "[5, 4, 3, 2, 1]"
      ]
     },
     "execution_count": 34,
     "metadata": {},
     "output_type": "execute_result"
    }
   ],
   "source": [
    "s[::-1]"
   ]
  },
  {
   "cell_type": "code",
   "execution_count": 46,
   "id": "cea3d75d",
   "metadata": {},
   "outputs": [],
   "source": [
    "# val  = Y O B\n",
    "# new_val = \"\"\n",
    "# 1st new_val = Y+\"\"\n",
    "# 2nd new_val = O+Y\n",
    "# 3rd new_val = B+O+Y\n",
    "def reverse_st(val):\n",
    "    new_val = \"\"\n",
    "    for char in str(val):\n",
    "        new_val = char + new_val\n",
    "    return new_val"
   ]
  },
  {
   "cell_type": "code",
   "execution_count": 45,
   "id": "48c3c3f1",
   "metadata": {},
   "outputs": [
    {
     "data": {
      "text/plain": [
       "'121'"
      ]
     },
     "execution_count": 45,
     "metadata": {},
     "output_type": "execute_result"
    }
   ],
   "source": [
    "reverse_st(121)"
   ]
  },
  {
   "cell_type": "code",
   "execution_count": 39,
   "id": "3bf49fa3",
   "metadata": {},
   "outputs": [
    {
     "data": {
      "text/plain": [
       "'Disney'"
      ]
     },
     "execution_count": 39,
     "metadata": {},
     "output_type": "execute_result"
    }
   ],
   "source": [
    "reverse_st(\"yensiD\")"
   ]
  },
  {
   "cell_type": "code",
   "execution_count": 49,
   "id": "0831ef47",
   "metadata": {},
   "outputs": [
    {
     "data": {
      "text/plain": [
       "11"
      ]
     },
     "execution_count": 49,
     "metadata": {},
     "output_type": "execute_result"
    }
   ],
   "source": [
    "num_list = [-5,3,2,11,7]\n",
    "num_list[3]"
   ]
  },
  {
   "cell_type": "code",
   "execution_count": 48,
   "id": "5864a399",
   "metadata": {},
   "outputs": [
    {
     "data": {
      "text/plain": [
       "<enumerate at 0x27002093f40>"
      ]
     },
     "execution_count": 48,
     "metadata": {},
     "output_type": "execute_result"
    }
   ],
   "source": [
    "enumerate(num_list)"
   ]
  },
  {
   "cell_type": "code",
   "execution_count": 50,
   "id": "80788222",
   "metadata": {},
   "outputs": [
    {
     "name": "stdout",
     "output_type": "stream",
     "text": [
      "[0, 3, 2, 11, 7]\n"
     ]
    }
   ],
   "source": [
    "for idx, num in enumerate(num_list):\n",
    "    if num < 0:\n",
    "        num_list[idx] = 0\n",
    "print(num_list)\n",
    "    "
   ]
  },
  {
   "cell_type": "markdown",
   "id": "acf75463",
   "metadata": {},
   "source": [
    "# Lambda Expression"
   ]
  },
  {
   "cell_type": "code",
   "execution_count": 51,
   "id": "30393f88",
   "metadata": {},
   "outputs": [],
   "source": [
    "def double_func(num):\n",
    "    return num*2"
   ]
  },
  {
   "cell_type": "code",
   "execution_count": 52,
   "id": "d6c22730",
   "metadata": {},
   "outputs": [
    {
     "data": {
      "text/plain": [
       "10"
      ]
     },
     "execution_count": 52,
     "metadata": {},
     "output_type": "execute_result"
    }
   ],
   "source": [
    "double_func(5)"
   ]
  },
  {
   "cell_type": "code",
   "execution_count": 53,
   "id": "818c88cd",
   "metadata": {},
   "outputs": [],
   "source": [
    "double_val = lambda num: num*2"
   ]
  },
  {
   "cell_type": "code",
   "execution_count": 54,
   "id": "0c6f8eb4",
   "metadata": {},
   "outputs": [
    {
     "data": {
      "text/plain": [
       "12"
      ]
     },
     "execution_count": 54,
     "metadata": {},
     "output_type": "execute_result"
    }
   ],
   "source": [
    "double_val(6)"
   ]
  },
  {
   "cell_type": "markdown",
   "id": "1ffb515c",
   "metadata": {},
   "source": [
    "# Map and Filter"
   ]
  },
  {
   "cell_type": "code",
   "execution_count": 55,
   "id": "db875c65",
   "metadata": {},
   "outputs": [],
   "source": [
    "seq  = [1,2,3,4,5,6]"
   ]
  },
  {
   "cell_type": "code",
   "execution_count": 57,
   "id": "983ab9c6",
   "metadata": {},
   "outputs": [
    {
     "data": {
      "text/plain": [
       "[2, 4, 6, 8, 10, 12]"
      ]
     },
     "execution_count": 57,
     "metadata": {},
     "output_type": "execute_result"
    }
   ],
   "source": [
    "list(map(double_func, seq))"
   ]
  },
  {
   "cell_type": "code",
   "execution_count": 58,
   "id": "f472d883",
   "metadata": {},
   "outputs": [
    {
     "data": {
      "text/plain": [
       "[2, 4, 6, 8, 10, 12]"
      ]
     },
     "execution_count": 58,
     "metadata": {},
     "output_type": "execute_result"
    }
   ],
   "source": [
    "list(map(lambda num: num*2, seq))"
   ]
  },
  {
   "cell_type": "code",
   "execution_count": 60,
   "id": "70789c02",
   "metadata": {},
   "outputs": [
    {
     "data": {
      "text/plain": [
       "[2, 4, 6]"
      ]
     },
     "execution_count": 60,
     "metadata": {},
     "output_type": "execute_result"
    }
   ],
   "source": [
    "list(filter(lambda num: num%2==0, seq))"
   ]
  },
  {
   "cell_type": "code",
   "execution_count": 61,
   "id": "e3227fa8",
   "metadata": {},
   "outputs": [
    {
     "data": {
      "text/plain": [
       "6"
      ]
     },
     "execution_count": 61,
     "metadata": {},
     "output_type": "execute_result"
    }
   ],
   "source": [
    "len(seq)"
   ]
  },
  {
   "cell_type": "code",
   "execution_count": 63,
   "id": "1c59e9a3",
   "metadata": {},
   "outputs": [
    {
     "name": "stdout",
     "output_type": "stream",
     "text": [
      "Even\n",
      "Odd\n",
      "Even\n",
      "Odd\n",
      "Even\n",
      "Odd\n"
     ]
    }
   ],
   "source": [
    "for num in range(len(seq)):\n",
    "    if num%2==0:\n",
    "        print(\"Even\")\n",
    "    else:\n",
    "        print('Odd')"
   ]
  },
  {
   "cell_type": "code",
   "execution_count": 64,
   "id": "16f342b8",
   "metadata": {},
   "outputs": [],
   "source": [
    "def double_func(num):\n",
    "    return num*2"
   ]
  },
  {
   "cell_type": "code",
   "execution_count": 65,
   "id": "f6875d2d",
   "metadata": {},
   "outputs": [
    {
     "data": {
      "text/plain": [
       "[2, 4, 6, 8, 10, 12]"
      ]
     },
     "execution_count": 65,
     "metadata": {},
     "output_type": "execute_result"
    }
   ],
   "source": [
    "[num*2 for num in seq]"
   ]
  },
  {
   "cell_type": "code",
   "execution_count": null,
   "id": "5faa7408",
   "metadata": {},
   "outputs": [],
   "source": [
    "for num in range(len(seq)):\n",
    "    if num%2==0:\n",
    "        print(\"Even\")\n",
    "    else:\n",
    "        print('Odd')"
   ]
  },
  {
   "cell_type": "code",
   "execution_count": 66,
   "id": "95950f73",
   "metadata": {},
   "outputs": [],
   "source": [
    "results = ['Odd' if num%3==0 else \"Even\" for num in seq]"
   ]
  },
  {
   "cell_type": "code",
   "execution_count": 67,
   "id": "3d1cb4e6",
   "metadata": {},
   "outputs": [
    {
     "data": {
      "text/plain": [
       "['Even', 'Even', 'Odd', 'Even', 'Even', 'Odd']"
      ]
     },
     "execution_count": 67,
     "metadata": {},
     "output_type": "execute_result"
    }
   ],
   "source": [
    "results"
   ]
  },
  {
   "cell_type": "code",
   "execution_count": null,
   "id": "a92af94c",
   "metadata": {},
   "outputs": [],
   "source": [
    "git add .\n",
    "git commit -m\"lambda, map, filter'\n",
    "git push origin master\n",
    "git pull origin"
   ]
  }
 ],
 "metadata": {
  "kernelspec": {
   "display_name": "Python 3 (ipykernel)",
   "language": "python",
   "name": "python3"
  },
  "language_info": {
   "codemirror_mode": {
    "name": "ipython",
    "version": 3
   },
   "file_extension": ".py",
   "mimetype": "text/x-python",
   "name": "python",
   "nbconvert_exporter": "python",
   "pygments_lexer": "ipython3",
   "version": "3.9.12"
  }
 },
 "nbformat": 4,
 "nbformat_minor": 5
}
