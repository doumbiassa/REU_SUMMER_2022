{
 "cells": [
  {
   "cell_type": "markdown",
   "id": "24a88e32",
   "metadata": {},
   "source": [
    "# Day 3\n",
    "\n",
    "* Data Types\n",
    "    * Numbers\n",
    "    * Strings\n",
    "    * Variable Assignment\n",
    "    * Printing\n",
    "    * Strings methods\n",
    "    * Lists\n",
    "    * Dictionaries\n",
    "    * Boolians\n",
    "    * Tuples\n",
    "    * Sets\n",
    "* Basic Operations\n",
    "    * Comparison\n",
    "    * if, elif, else statements\n",
    "    * for loops\n",
    "    * while loops\n",
    "    * range()\n",
    "    * linspace()\n",
    "    * list comprehension\n",
    "    * functions\n",
    "    * lambda epressions\n",
    "    * map & filter\n",
    "    \n"
   ]
  },
  {
   "cell_type": "markdown",
   "id": "e7b873bb",
   "metadata": {},
   "source": [
    "## Numbers"
   ]
  },
  {
   "cell_type": "code",
   "execution_count": 1,
   "id": "e9463030",
   "metadata": {},
   "outputs": [
    {
     "data": {
      "text/plain": [
       "4"
      ]
     },
     "execution_count": 1,
     "metadata": {},
     "output_type": "execute_result"
    }
   ],
   "source": [
    "1+3"
   ]
  },
  {
   "cell_type": "code",
   "execution_count": 2,
   "id": "4370822b",
   "metadata": {},
   "outputs": [
    {
     "data": {
      "text/plain": [
       "18"
      ]
     },
     "execution_count": 2,
     "metadata": {},
     "output_type": "execute_result"
    }
   ],
   "source": [
    "(1+5)*(5-2)"
   ]
  },
  {
   "cell_type": "code",
   "execution_count": 3,
   "id": "bd3a464b",
   "metadata": {},
   "outputs": [
    {
     "data": {
      "text/plain": [
       "9"
      ]
     },
     "execution_count": 3,
     "metadata": {},
     "output_type": "execute_result"
    }
   ],
   "source": [
    "3**2"
   ]
  },
  {
   "cell_type": "markdown",
   "id": "fc73128e",
   "metadata": {},
   "source": [
    "This $\\%$ will return the remainder of the operation"
   ]
  },
  {
   "cell_type": "code",
   "execution_count": 4,
   "id": "44ec4b61",
   "metadata": {},
   "outputs": [
    {
     "data": {
      "text/plain": [
       "1"
      ]
     },
     "execution_count": 4,
     "metadata": {},
     "output_type": "execute_result"
    }
   ],
   "source": [
    "13%3"
   ]
  },
  {
   "cell_type": "code",
   "execution_count": 5,
   "id": "af61b271",
   "metadata": {},
   "outputs": [
    {
     "data": {
      "text/plain": [
       "3"
      ]
     },
     "execution_count": 5,
     "metadata": {},
     "output_type": "execute_result"
    }
   ],
   "source": [
    "15//4"
   ]
  },
  {
   "cell_type": "code",
   "execution_count": 6,
   "id": "49fe4804",
   "metadata": {},
   "outputs": [
    {
     "data": {
      "text/plain": [
       "1"
      ]
     },
     "execution_count": 6,
     "metadata": {},
     "output_type": "execute_result"
    }
   ],
   "source": [
    "# This will return an integer as the quotient\n",
    "3//2"
   ]
  },
  {
   "cell_type": "code",
   "execution_count": 7,
   "id": "2c5c6a10",
   "metadata": {},
   "outputs": [
    {
     "data": {
      "text/plain": [
       "float"
      ]
     },
     "execution_count": 7,
     "metadata": {},
     "output_type": "execute_result"
    }
   ],
   "source": [
    "type(2.17327489)"
   ]
  },
  {
   "cell_type": "code",
   "execution_count": 8,
   "id": "5d358df3",
   "metadata": {},
   "outputs": [
    {
     "data": {
      "text/plain": [
       "float"
      ]
     },
     "execution_count": 8,
     "metadata": {},
     "output_type": "execute_result"
    }
   ],
   "source": [
    "type(-3.4)"
   ]
  },
  {
   "cell_type": "code",
   "execution_count": 9,
   "id": "d841eff3",
   "metadata": {},
   "outputs": [
    {
     "data": {
      "text/plain": [
       "float"
      ]
     },
     "execution_count": 9,
     "metadata": {},
     "output_type": "execute_result"
    }
   ],
   "source": [
    "type((2)**0.5)"
   ]
  },
  {
   "cell_type": "code",
   "execution_count": 10,
   "id": "799afb38",
   "metadata": {},
   "outputs": [
    {
     "data": {
      "text/plain": [
       "float"
      ]
     },
     "execution_count": 10,
     "metadata": {},
     "output_type": "execute_result"
    }
   ],
   "source": [
    "type((16)**0.5)\n"
   ]
  },
  {
   "cell_type": "code",
   "execution_count": 11,
   "id": "a9b1220d",
   "metadata": {},
   "outputs": [
    {
     "name": "stdout",
     "output_type": "stream",
     "text": [
      "I am a string and I am in a single quotation\n"
     ]
    }
   ],
   "source": [
    "# Strings are sequences of alpha character data.\n",
    "print('I am a string and I am in a single quotation')"
   ]
  },
  {
   "cell_type": "code",
   "execution_count": 12,
   "id": "bc9a8fc3",
   "metadata": {},
   "outputs": [
    {
     "data": {
      "text/plain": [
       "str"
      ]
     },
     "execution_count": 12,
     "metadata": {},
     "output_type": "execute_result"
    }
   ],
   "source": [
    "type('I am a string and I am in a single quotation')"
   ]
  },
  {
   "cell_type": "code",
   "execution_count": 13,
   "id": "e6dfc915",
   "metadata": {},
   "outputs": [
    {
     "name": "stdout",
     "output_type": "stream",
     "text": [
      "I am a string and I am in double quotation\n"
     ]
    }
   ],
   "source": [
    "print(\"I am a string and I am in double quotation\")"
   ]
  },
  {
   "cell_type": "code",
   "execution_count": 14,
   "id": "ab238646",
   "metadata": {},
   "outputs": [
    {
     "data": {
      "text/plain": [
       "str"
      ]
     },
     "execution_count": 14,
     "metadata": {},
     "output_type": "execute_result"
    }
   ],
   "source": [
    "type(\"I am a string and I am in double quotation\")"
   ]
  },
  {
   "cell_type": "code",
   "execution_count": 15,
   "id": "7e6c5687",
   "metadata": {},
   "outputs": [
    {
     "data": {
      "text/plain": [
       "str"
      ]
     },
     "execution_count": 15,
     "metadata": {},
     "output_type": "execute_result"
    }
   ],
   "source": [
    "type(\" \")"
   ]
  },
  {
   "cell_type": "markdown",
   "id": "decd121f",
   "metadata": {},
   "source": [
    "# Variable Assignment"
   ]
  },
  {
   "cell_type": "code",
   "execution_count": 16,
   "id": "4ac275de",
   "metadata": {},
   "outputs": [],
   "source": [
    "name = 'Moussa'"
   ]
  },
  {
   "cell_type": "code",
   "execution_count": 17,
   "id": "074e96ca",
   "metadata": {},
   "outputs": [
    {
     "ename": "SyntaxError",
     "evalue": "invalid decimal literal (739953904.py, line 1)",
     "output_type": "error",
     "traceback": [
      "\u001b[1;36m  Input \u001b[1;32mIn [17]\u001b[1;36m\u001b[0m\n\u001b[1;33m    123_var = 10\u001b[0m\n\u001b[1;37m       ^\u001b[0m\n\u001b[1;31mSyntaxError\u001b[0m\u001b[1;31m:\u001b[0m invalid decimal literal\n"
     ]
    }
   ],
   "source": [
    "123_var = 10"
   ]
  },
  {
   "cell_type": "code",
   "execution_count": null,
   "id": "f4d760f0",
   "metadata": {},
   "outputs": [],
   "source": [
    "var_123 =4"
   ]
  },
  {
   "cell_type": "code",
   "execution_count": null,
   "id": "fb0c2f5a",
   "metadata": {},
   "outputs": [],
   "source": [
    "x = 1\n",
    "y  = 2\n",
    "z = x+ y"
   ]
  },
  {
   "cell_type": "code",
   "execution_count": null,
   "id": "3b7de8ba",
   "metadata": {
    "scrolled": true
   },
   "outputs": [],
   "source": [
    "z"
   ]
  },
  {
   "cell_type": "code",
   "execution_count": null,
   "id": "4504b314",
   "metadata": {},
   "outputs": [],
   "source": [
    "x = \"Moussa\""
   ]
  },
  {
   "cell_type": "code",
   "execution_count": null,
   "id": "3ca9d031",
   "metadata": {},
   "outputs": [],
   "source": [
    "x"
   ]
  },
  {
   "cell_type": "code",
   "execution_count": null,
   "id": "92e112c0",
   "metadata": {},
   "outputs": [],
   "source": [
    "print(x)"
   ]
  },
  {
   "cell_type": "code",
   "execution_count": null,
   "id": "89730afd",
   "metadata": {},
   "outputs": [],
   "source": [
    "name = 'Madison'"
   ]
  },
  {
   "cell_type": "code",
   "execution_count": null,
   "id": "bfc6e27f",
   "metadata": {},
   "outputs": [],
   "source": [
    "print('Hello',name,\"welcome to REU\")"
   ]
  },
  {
   "cell_type": "code",
   "execution_count": null,
   "id": "9669d139",
   "metadata": {},
   "outputs": [],
   "source": [
    "print('Hello '+ name+\" welcome to REU\")"
   ]
  },
  {
   "cell_type": "code",
   "execution_count": null,
   "id": "a16631e0",
   "metadata": {},
   "outputs": [],
   "source": [
    "first_name = 'Madison'\n",
    "last_name = 'Norwood'"
   ]
  },
  {
   "cell_type": "code",
   "execution_count": null,
   "id": "7684cbb6",
   "metadata": {},
   "outputs": [],
   "source": [
    "print('Hello HU! My first name is {one} and my last name is {two}'.format(two=last_name,one=first_name))"
   ]
  },
  {
   "cell_type": "code",
   "execution_count": null,
   "id": "440b8004",
   "metadata": {},
   "outputs": [],
   "source": []
  },
  {
   "cell_type": "code",
   "execution_count": null,
   "id": "d4b2b720",
   "metadata": {},
   "outputs": [],
   "source": [
    "print('Hello HU! My first name is {} and my last name is {}'.format(first_name,last_name ))"
   ]
  },
  {
   "cell_type": "code",
   "execution_count": null,
   "id": "5614023d",
   "metadata": {},
   "outputs": [],
   "source": [
    "print('Hello HU! My first name is {} and my last name is {}'.format(last_name, first_name))"
   ]
  },
  {
   "cell_type": "markdown",
   "id": "5e46f782",
   "metadata": {},
   "source": [
    "# Strings Methods"
   ]
  },
  {
   "cell_type": "code",
   "execution_count": null,
   "id": "c46265ff",
   "metadata": {},
   "outputs": [],
   "source": [
    "name = 'destin'"
   ]
  },
  {
   "cell_type": "code",
   "execution_count": null,
   "id": "e076075e",
   "metadata": {},
   "outputs": [],
   "source": [
    "# Title method\n",
    "print(name.title())"
   ]
  },
  {
   "cell_type": "code",
   "execution_count": null,
   "id": "6005e9d9",
   "metadata": {},
   "outputs": [],
   "source": [
    "# Upper method\n",
    "print(name.upper())"
   ]
  },
  {
   "cell_type": "code",
   "execution_count": null,
   "id": "4cea1657",
   "metadata": {},
   "outputs": [],
   "source": [
    "# lower method\n",
    "school = 'HOWARD UNIVERSITY'\n",
    "print(school.lower())"
   ]
  },
  {
   "cell_type": "code",
   "execution_count": null,
   "id": "266948cc",
   "metadata": {},
   "outputs": [],
   "source": [
    "print(school.split())"
   ]
  },
  {
   "cell_type": "code",
   "execution_count": null,
   "id": "bd37763e",
   "metadata": {},
   "outputs": [],
   "source": [
    "a_string = 'h+e+l+l+o'"
   ]
  },
  {
   "cell_type": "code",
   "execution_count": null,
   "id": "a5a0f220",
   "metadata": {},
   "outputs": [],
   "source": [
    "print(a_string.split('+'))"
   ]
  },
  {
   "cell_type": "code",
   "execution_count": null,
   "id": "a55cb965",
   "metadata": {},
   "outputs": [],
   "source": [
    "# Count method\n",
    "activity = 'I am learning Python'\n",
    "print(activity.count('n'))"
   ]
  },
  {
   "cell_type": "code",
   "execution_count": null,
   "id": "c4b04fcd",
   "metadata": {},
   "outputs": [],
   "source": [
    "# Center method\n",
    "print(activity.center(70))"
   ]
  },
  {
   "cell_type": "code",
   "execution_count": null,
   "id": "465fb73f",
   "metadata": {},
   "outputs": [],
   "source": [
    "type('12345')"
   ]
  },
  {
   "cell_type": "code",
   "execution_count": null,
   "id": "4b8e9532",
   "metadata": {},
   "outputs": [],
   "source": [
    "num_str = '12345'"
   ]
  },
  {
   "cell_type": "code",
   "execution_count": null,
   "id": "cd94f169",
   "metadata": {},
   "outputs": [],
   "source": [
    "# IS_Numeric method\n",
    "print(num_str.isnumeric())"
   ]
  },
  {
   "cell_type": "code",
   "execution_count": null,
   "id": "e44d0fc7",
   "metadata": {},
   "outputs": [],
   "source": [
    "print(school.isnumeric())"
   ]
  },
  {
   "cell_type": "code",
   "execution_count": null,
   "id": "eb214695",
   "metadata": {},
   "outputs": [],
   "source": [
    "# Strip method\n",
    "name =  \"  abc     \""
   ]
  },
  {
   "cell_type": "code",
   "execution_count": null,
   "id": "c175dcf8",
   "metadata": {},
   "outputs": [],
   "source": [
    "# len will return the length of the string\n",
    "len(name)"
   ]
  },
  {
   "cell_type": "code",
   "execution_count": null,
   "id": "6fc4075e",
   "metadata": {},
   "outputs": [],
   "source": [
    "a = name.lstrip()\n",
    "len(a)"
   ]
  },
  {
   "cell_type": "code",
   "execution_count": null,
   "id": "430a9697",
   "metadata": {},
   "outputs": [],
   "source": [
    "b = name.rstrip()\n",
    "len(b)"
   ]
  },
  {
   "cell_type": "code",
   "execution_count": null,
   "id": "653fd1b4",
   "metadata": {},
   "outputs": [],
   "source": [
    "c = name.strip()\n",
    "len(c)"
   ]
  },
  {
   "cell_type": "code",
   "execution_count": 20,
   "id": "45f11e5c",
   "metadata": {},
   "outputs": [],
   "source": [
    "# List is used to store multiple variable into a single variable\n",
    "a_list = ['Fruit', 'Vegetable','Seafood',\"Meat lover\", 'car','house']\n",
    "          # 0         1            2        3      4       5     6"
   ]
  },
  {
   "cell_type": "code",
   "execution_count": 21,
   "id": "95597b6f",
   "metadata": {},
   "outputs": [
    {
     "data": {
      "text/plain": [
       "'Fruit'"
      ]
     },
     "execution_count": 21,
     "metadata": {},
     "output_type": "execute_result"
    }
   ],
   "source": [
    "a_list[0]            "
   ]
  },
  {
   "cell_type": "code",
   "execution_count": 22,
   "id": "219a9a77",
   "metadata": {},
   "outputs": [
    {
     "data": {
      "text/plain": [
       "'house'"
      ]
     },
     "execution_count": 22,
     "metadata": {},
     "output_type": "execute_result"
    }
   ],
   "source": [
    "a_list[-1]"
   ]
  },
  {
   "cell_type": "code",
   "execution_count": 23,
   "id": "d426e0b6",
   "metadata": {},
   "outputs": [
    {
     "data": {
      "text/plain": [
       "['Fruit', 'Vegetable', 'Seafood']"
      ]
     },
     "execution_count": 23,
     "metadata": {},
     "output_type": "execute_result"
    }
   ],
   "source": [
    "a_list[0:3]\n",
    "# Note that the index 3 is excluded"
   ]
  },
  {
   "cell_type": "code",
   "execution_count": 24,
   "id": "042ee30b",
   "metadata": {},
   "outputs": [
    {
     "data": {
      "text/plain": [
       "['Fruit', 'Vegetable', 'Seafood', 'Meat lover', 'car']"
      ]
     },
     "execution_count": 24,
     "metadata": {},
     "output_type": "execute_result"
    }
   ],
   "source": [
    "a_list[0:5]"
   ]
  },
  {
   "cell_type": "code",
   "execution_count": 25,
   "id": "22880e79",
   "metadata": {},
   "outputs": [],
   "source": [
    "a_list[0] = 'Salad'"
   ]
  },
  {
   "cell_type": "code",
   "execution_count": 26,
   "id": "c2ac85bb",
   "metadata": {},
   "outputs": [
    {
     "data": {
      "text/plain": [
       "['Salad', 'Vegetable', 'Seafood', 'Meat lover', 'car', 'house']"
      ]
     },
     "execution_count": 26,
     "metadata": {},
     "output_type": "execute_result"
    }
   ],
   "source": [
    "a_list"
   ]
  },
  {
   "cell_type": "code",
   "execution_count": 27,
   "id": "45727c27",
   "metadata": {},
   "outputs": [
    {
     "data": {
      "text/plain": [
       "['house', 'car', 'Meat lover', 'Seafood', 'Vegetable', 'Salad']"
      ]
     },
     "execution_count": 27,
     "metadata": {},
     "output_type": "execute_result"
    }
   ],
   "source": [
    "a_list[::-1]"
   ]
  },
  {
   "cell_type": "code",
   "execution_count": null,
   "id": "2a9998a5",
   "metadata": {},
   "outputs": [],
   "source": [
    "school[::-1]"
   ]
  },
  {
   "cell_type": "code",
   "execution_count": 28,
   "id": "1380e15a",
   "metadata": {},
   "outputs": [],
   "source": [
    "a_list.append('Fish') # Adding member to a list"
   ]
  },
  {
   "cell_type": "code",
   "execution_count": 30,
   "id": "1db44731",
   "metadata": {},
   "outputs": [
    {
     "data": {
      "text/plain": [
       "['Salad', 'Vegetable', 'Seafood', 'Meat lover', 'car', 'house', 'Fish']"
      ]
     },
     "execution_count": 30,
     "metadata": {},
     "output_type": "execute_result"
    }
   ],
   "source": [
    "a_list"
   ]
  },
  {
   "cell_type": "code",
   "execution_count": 31,
   "id": "1562db59",
   "metadata": {},
   "outputs": [],
   "source": [
    "a_list.insert(7,'Shrimp')\n"
   ]
  },
  {
   "cell_type": "code",
   "execution_count": 32,
   "id": "e85b210e",
   "metadata": {},
   "outputs": [
    {
     "name": "stdout",
     "output_type": "stream",
     "text": [
      "['Salad', 'Vegetable', 'Seafood', 'Meat lover', 'car', 'house', 'Fish', 'Shrimp']\n"
     ]
    }
   ],
   "source": [
    "print(a_list)"
   ]
  },
  {
   "cell_type": "code",
   "execution_count": 33,
   "id": "1c1861d5",
   "metadata": {},
   "outputs": [
    {
     "data": {
      "text/plain": [
       "'Vegetable'"
      ]
     },
     "execution_count": 33,
     "metadata": {},
     "output_type": "execute_result"
    }
   ],
   "source": [
    "# pop method\n",
    "a_list.pop(1)"
   ]
  },
  {
   "cell_type": "code",
   "execution_count": 34,
   "id": "04630925",
   "metadata": {},
   "outputs": [
    {
     "data": {
      "text/plain": [
       "['Salad', 'Seafood', 'Meat lover', 'car', 'house', 'Fish', 'Shrimp']"
      ]
     },
     "execution_count": 34,
     "metadata": {},
     "output_type": "execute_result"
    }
   ],
   "source": [
    "a_list"
   ]
  },
  {
   "cell_type": "code",
   "execution_count": 35,
   "id": "36197b60",
   "metadata": {},
   "outputs": [],
   "source": [
    "# Remove method\n",
    "a_list.remove('car')\n"
   ]
  },
  {
   "cell_type": "code",
   "execution_count": 36,
   "id": "cece0e28",
   "metadata": {},
   "outputs": [
    {
     "data": {
      "text/plain": [
       "['Salad', 'Seafood', 'Meat lover', 'house', 'Fish', 'Shrimp']"
      ]
     },
     "execution_count": 36,
     "metadata": {},
     "output_type": "execute_result"
    }
   ],
   "source": [
    "a_list"
   ]
  },
  {
   "cell_type": "code",
   "execution_count": 37,
   "id": "e5fff26a",
   "metadata": {},
   "outputs": [],
   "source": [
    "b_list = ['a','b','c','d']"
   ]
  },
  {
   "cell_type": "code",
   "execution_count": 39,
   "id": "61787f65",
   "metadata": {},
   "outputs": [],
   "source": [
    "add_list = a_list + b_list"
   ]
  },
  {
   "cell_type": "code",
   "execution_count": 42,
   "id": "5c79e0f6",
   "metadata": {},
   "outputs": [
    {
     "data": {
      "text/plain": [
       "['Salad',\n",
       " 'Seafood',\n",
       " 'Meat lover',\n",
       " 'house',\n",
       " 'Fish',\n",
       " 'Shrimp',\n",
       " 'a',\n",
       " 'b',\n",
       " 'c',\n",
       " 'd']"
      ]
     },
     "execution_count": 42,
     "metadata": {},
     "output_type": "execute_result"
    }
   ],
   "source": [
    "add_list"
   ]
  },
  {
   "cell_type": "markdown",
   "id": "7b89e943",
   "metadata": {},
   "source": [
    "# Dictionary\n",
    "#### Dictionaries are used to store data in key value pair"
   ]
  },
  {
   "cell_type": "code",
   "execution_count": 43,
   "id": "c2c5d7a2",
   "metadata": {},
   "outputs": [],
   "source": [
    "firs_dict = {\n",
    "  \"brand\": \"Ford\",\n",
    "  \"model\": \"Mustang\",\n",
    "  \"year\": 1964,\n",
    "    \"Mileage\" : 200000,\n",
    "    'Color':'Green',\n",
    "    \"Cylinder\" : 6\n",
    "}"
   ]
  },
  {
   "cell_type": "code",
   "execution_count": 47,
   "id": "cefdb49e",
   "metadata": {},
   "outputs": [
    {
     "data": {
      "text/plain": [
       "'Mustang'"
      ]
     },
     "execution_count": 47,
     "metadata": {},
     "output_type": "execute_result"
    }
   ],
   "source": [
    "firs_dict['model']"
   ]
  },
  {
   "cell_type": "code",
   "execution_count": 48,
   "id": "431847ae",
   "metadata": {},
   "outputs": [],
   "source": [
    "firs_dict['Origin'] = 'Domestic'"
   ]
  },
  {
   "cell_type": "code",
   "execution_count": 49,
   "id": "139ca810",
   "metadata": {},
   "outputs": [
    {
     "data": {
      "text/plain": [
       "{'brand': 'Ford',\n",
       " 'model': 'Mustang',\n",
       " 'year': 1964,\n",
       " 'Mileage': 200000,\n",
       " 'Color': 'Green',\n",
       " 'Cylinder': 6,\n",
       " 'Origin': 'Domestic'}"
      ]
     },
     "execution_count": 49,
     "metadata": {},
     "output_type": "execute_result"
    }
   ],
   "source": [
    "firs_dict"
   ]
  },
  {
   "cell_type": "code",
   "execution_count": 50,
   "id": "7e6fb173",
   "metadata": {},
   "outputs": [
    {
     "data": {
      "text/plain": [
       "'Green'"
      ]
     },
     "execution_count": 50,
     "metadata": {},
     "output_type": "execute_result"
    }
   ],
   "source": [
    "firs_dict.pop('Color')"
   ]
  },
  {
   "cell_type": "code",
   "execution_count": 51,
   "id": "0ed905a1",
   "metadata": {},
   "outputs": [
    {
     "data": {
      "text/plain": [
       "{'brand': 'Ford',\n",
       " 'model': 'Mustang',\n",
       " 'year': 1964,\n",
       " 'Mileage': 200000,\n",
       " 'Cylinder': 6,\n",
       " 'Origin': 'Domestic'}"
      ]
     },
     "execution_count": 51,
     "metadata": {},
     "output_type": "execute_result"
    }
   ],
   "source": [
    "firs_dict"
   ]
  },
  {
   "cell_type": "code",
   "execution_count": 53,
   "id": "161b9eb0",
   "metadata": {},
   "outputs": [
    {
     "data": {
      "text/plain": [
       "dict_items([('brand', 'Ford'), ('model', 'Mustang'), ('year', 1964), ('Mileage', 200000), ('Cylinder', 6), ('Origin', 'Domestic')])"
      ]
     },
     "execution_count": 53,
     "metadata": {},
     "output_type": "execute_result"
    }
   ],
   "source": [
    "firs_dict.items()"
   ]
  },
  {
   "cell_type": "code",
   "execution_count": 54,
   "id": "0e833873",
   "metadata": {},
   "outputs": [
    {
     "data": {
      "text/plain": [
       "dict_keys(['brand', 'model', 'year', 'Mileage', 'Cylinder', 'Origin'])"
      ]
     },
     "execution_count": 54,
     "metadata": {},
     "output_type": "execute_result"
    }
   ],
   "source": [
    "firs_dict.keys()"
   ]
  },
  {
   "cell_type": "code",
   "execution_count": 55,
   "id": "e06f04ce",
   "metadata": {},
   "outputs": [
    {
     "data": {
      "text/plain": [
       "dict_values(['Ford', 'Mustang', 1964, 200000, 6, 'Domestic'])"
      ]
     },
     "execution_count": 55,
     "metadata": {},
     "output_type": "execute_result"
    }
   ],
   "source": [
    "firs_dict.values()"
   ]
  },
  {
   "cell_type": "markdown",
   "id": "53ce3747",
   "metadata": {},
   "source": [
    "# Boolian"
   ]
  },
  {
   "cell_type": "code",
   "execution_count": 56,
   "id": "849c9520",
   "metadata": {},
   "outputs": [],
   "source": [
    "# True or False, Approved, Denied, Yes, No, 1,0"
   ]
  },
  {
   "cell_type": "code",
   "execution_count": 57,
   "id": "894f3a01",
   "metadata": {},
   "outputs": [
    {
     "data": {
      "text/plain": [
       "True"
      ]
     },
     "execution_count": 57,
     "metadata": {},
     "output_type": "execute_result"
    }
   ],
   "source": [
    "10 > 3"
   ]
  },
  {
   "cell_type": "code",
   "execution_count": 58,
   "id": "66b7a2c3",
   "metadata": {},
   "outputs": [
    {
     "data": {
      "text/plain": [
       "False"
      ]
     },
     "execution_count": 58,
     "metadata": {},
     "output_type": "execute_result"
    }
   ],
   "source": [
    "-10 > 3"
   ]
  },
  {
   "cell_type": "code",
   "execution_count": 59,
   "id": "90d29630",
   "metadata": {},
   "outputs": [
    {
     "name": "stdout",
     "output_type": "stream",
     "text": [
      "True\n"
     ]
    }
   ],
   "source": [
    "print((10 > 3) | (-2 > 5))"
   ]
  },
  {
   "cell_type": "code",
   "execution_count": 60,
   "id": "7a004b7d",
   "metadata": {},
   "outputs": [
    {
     "name": "stdout",
     "output_type": "stream",
     "text": [
      "False\n"
     ]
    }
   ],
   "source": [
    "print((10 > 3) & (-2 > 5))"
   ]
  },
  {
   "cell_type": "markdown",
   "id": "4934acc8",
   "metadata": {},
   "source": [
    "# Tuples"
   ]
  },
  {
   "cell_type": "code",
   "execution_count": 61,
   "id": "748e5d80",
   "metadata": {},
   "outputs": [],
   "source": [
    "# Unmutable data"
   ]
  },
  {
   "cell_type": "code",
   "execution_count": 62,
   "id": "df06deb8",
   "metadata": {},
   "outputs": [],
   "source": [
    "my_tuple = ('user_name', 'password','secret_question')"
   ]
  },
  {
   "cell_type": "code",
   "execution_count": 63,
   "id": "5dba3297",
   "metadata": {},
   "outputs": [],
   "source": [
    "a,b,c  = my_tuple"
   ]
  },
  {
   "cell_type": "code",
   "execution_count": 64,
   "id": "66070cb9",
   "metadata": {},
   "outputs": [
    {
     "data": {
      "text/plain": [
       "'user_name'"
      ]
     },
     "execution_count": 64,
     "metadata": {},
     "output_type": "execute_result"
    }
   ],
   "source": [
    "a"
   ]
  },
  {
   "cell_type": "code",
   "execution_count": 65,
   "id": "674150f2",
   "metadata": {},
   "outputs": [
    {
     "data": {
      "text/plain": [
       "'password'"
      ]
     },
     "execution_count": 65,
     "metadata": {},
     "output_type": "execute_result"
    }
   ],
   "source": [
    "b"
   ]
  },
  {
   "cell_type": "code",
   "execution_count": 66,
   "id": "dcacd4be",
   "metadata": {},
   "outputs": [
    {
     "data": {
      "text/plain": [
       "'secret_question'"
      ]
     },
     "execution_count": 66,
     "metadata": {},
     "output_type": "execute_result"
    }
   ],
   "source": [
    "c"
   ]
  },
  {
   "cell_type": "code",
   "execution_count": 67,
   "id": "a93a5c1c",
   "metadata": {},
   "outputs": [
    {
     "data": {
      "text/plain": [
       "'user_name'"
      ]
     },
     "execution_count": 67,
     "metadata": {},
     "output_type": "execute_result"
    }
   ],
   "source": [
    "my_tuple[0]"
   ]
  },
  {
   "cell_type": "code",
   "execution_count": 68,
   "id": "a2f90ca0",
   "metadata": {},
   "outputs": [
    {
     "ename": "TypeError",
     "evalue": "'tuple' object does not support item assignment",
     "output_type": "error",
     "traceback": [
      "\u001b[1;31m---------------------------------------------------------------------------\u001b[0m",
      "\u001b[1;31mTypeError\u001b[0m                                 Traceback (most recent call last)",
      "Input \u001b[1;32mIn [68]\u001b[0m, in \u001b[0;36m<cell line: 1>\u001b[1;34m()\u001b[0m\n\u001b[1;32m----> 1\u001b[0m my_tuple[\u001b[38;5;241m0\u001b[39m] \u001b[38;5;241m=\u001b[39m \u001b[38;5;124m'\u001b[39m\u001b[38;5;124mname\u001b[39m\u001b[38;5;124m'\u001b[39m\n",
      "\u001b[1;31mTypeError\u001b[0m: 'tuple' object does not support item assignment"
     ]
    }
   ],
   "source": [
    "my_tuple[0] = 'name'"
   ]
  },
  {
   "cell_type": "code",
   "execution_count": 69,
   "id": "6eb4ba2c",
   "metadata": {},
   "outputs": [],
   "source": [
    "l1 = [1,2,3,4,5]"
   ]
  },
  {
   "cell_type": "code",
   "execution_count": 71,
   "id": "63bce9c4",
   "metadata": {},
   "outputs": [],
   "source": [
    "t1 = tuple(l1)"
   ]
  },
  {
   "cell_type": "code",
   "execution_count": 72,
   "id": "c0ef6b73",
   "metadata": {},
   "outputs": [
    {
     "ename": "TypeError",
     "evalue": "'tuple' object does not support item assignment",
     "output_type": "error",
     "traceback": [
      "\u001b[1;31m---------------------------------------------------------------------------\u001b[0m",
      "\u001b[1;31mTypeError\u001b[0m                                 Traceback (most recent call last)",
      "Input \u001b[1;32mIn [72]\u001b[0m, in \u001b[0;36m<cell line: 1>\u001b[1;34m()\u001b[0m\n\u001b[1;32m----> 1\u001b[0m t1[\u001b[38;5;241m-\u001b[39m\u001b[38;5;241m1\u001b[39m] \u001b[38;5;241m=\u001b[39m\u001b[38;5;241m6\u001b[39m\n",
      "\u001b[1;31mTypeError\u001b[0m: 'tuple' object does not support item assignment"
     ]
    }
   ],
   "source": [
    "t1[-1] =6"
   ]
  },
  {
   "cell_type": "markdown",
   "id": "15a4f53d",
   "metadata": {},
   "source": [
    "# Set"
   ]
  },
  {
   "cell_type": "code",
   "execution_count": 74,
   "id": "d741ac23",
   "metadata": {},
   "outputs": [
    {
     "data": {
      "text/plain": [
       "{1, 3, 4, 5, 6, 7}"
      ]
     },
     "execution_count": 74,
     "metadata": {},
     "output_type": "execute_result"
    }
   ],
   "source": [
    "set([1,1,1,3,3,4,5,6,7,7])"
   ]
  },
  {
   "cell_type": "code",
   "execution_count": 75,
   "id": "499e5f7c",
   "metadata": {},
   "outputs": [],
   "source": [
    "S1 = {'hello','hi','hola','salut!'}"
   ]
  },
  {
   "cell_type": "code",
   "execution_count": 76,
   "id": "afe64fb4",
   "metadata": {},
   "outputs": [
    {
     "data": {
      "text/plain": [
       "{'hello', 'hi', 'hola', 'salut!'}"
      ]
     },
     "execution_count": 76,
     "metadata": {},
     "output_type": "execute_result"
    }
   ],
   "source": [
    "S1"
   ]
  },
  {
   "cell_type": "markdown",
   "id": "2884e00c",
   "metadata": {},
   "source": [
    "# Basic Operations"
   ]
  },
  {
   "cell_type": "code",
   "execution_count": 77,
   "id": "9d3d4d80",
   "metadata": {},
   "outputs": [
    {
     "data": {
      "text/plain": [
       "False"
      ]
     },
     "execution_count": 77,
     "metadata": {},
     "output_type": "execute_result"
    }
   ],
   "source": [
    " 1 > 3"
   ]
  },
  {
   "cell_type": "code",
   "execution_count": 78,
   "id": "ee71fdfa",
   "metadata": {},
   "outputs": [
    {
     "data": {
      "text/plain": [
       "True"
      ]
     },
     "execution_count": 78,
     "metadata": {},
     "output_type": "execute_result"
    }
   ],
   "source": [
    " 5 >= 5"
   ]
  },
  {
   "cell_type": "code",
   "execution_count": 79,
   "id": "ef536d51",
   "metadata": {},
   "outputs": [
    {
     "data": {
      "text/plain": [
       "True"
      ]
     },
     "execution_count": 79,
     "metadata": {},
     "output_type": "execute_result"
    }
   ],
   "source": [
    "1 == 1"
   ]
  },
  {
   "cell_type": "code",
   "execution_count": 81,
   "id": "0716c95a",
   "metadata": {},
   "outputs": [
    {
     "data": {
      "text/plain": [
       "False"
      ]
     },
     "execution_count": 81,
     "metadata": {},
     "output_type": "execute_result"
    }
   ],
   "source": [
    "'Hi' == 'Bye'"
   ]
  },
  {
   "cell_type": "code",
   "execution_count": 82,
   "id": "e7ccf329",
   "metadata": {},
   "outputs": [
    {
     "data": {
      "text/plain": [
       "False"
      ]
     },
     "execution_count": 82,
     "metadata": {},
     "output_type": "execute_result"
    }
   ],
   "source": [
    "'Hi' == 'hi'"
   ]
  },
  {
   "cell_type": "code",
   "execution_count": 83,
   "id": "8c92173f",
   "metadata": {},
   "outputs": [],
   "source": [
    "x = 5"
   ]
  },
  {
   "cell_type": "code",
   "execution_count": null,
   "id": "58ef8272",
   "metadata": {},
   "outputs": [],
   "source": [
    "# If elif else"
   ]
  }
 ],
 "metadata": {
  "kernelspec": {
   "display_name": "Python 3 (ipykernel)",
   "language": "python",
   "name": "python3"
  },
  "language_info": {
   "codemirror_mode": {
    "name": "ipython",
    "version": 3
   },
   "file_extension": ".py",
   "mimetype": "text/x-python",
   "name": "python",
   "nbconvert_exporter": "python",
   "pygments_lexer": "ipython3",
   "version": "3.9.12"
  }
 },
 "nbformat": 4,
 "nbformat_minor": 5
}
